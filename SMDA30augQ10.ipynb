{
 "cells": [
  {
   "cell_type": "code",
   "execution_count": 13,
   "id": "d8896fc0-c48a-4b96-a862-842bf0e05dc3",
   "metadata": {},
   "outputs": [],
   "source": [
    "#Question-10 (Page-380)\n",
    "import numpy as np\n",
    "import pandas as pd\n",
    "import scipy.stats as stat\n",
    "from scipy.stats import norm \n"
   ]
  },
  {
   "cell_type": "code",
   "execution_count": 14,
   "id": "841c0f9d-3435-4ed9-92ba-c7faec4e1ea8",
   "metadata": {},
   "outputs": [
    {
     "data": {
      "text/plain": [
       "59.33661039639299"
      ]
     },
     "execution_count": 14,
     "metadata": {},
     "output_type": "execute_result"
    }
   ],
   "source": [
    "sample=120\n",
    "sigma=650\n",
    "standard_error=sigma/(sample**0.5)\n",
    "standard_error \n",
    "#Given n=120"
   ]
  },
  {
   "cell_type": "code",
   "execution_count": 15,
   "id": "9901a9ba-008f-4406-9c12-f7f1434d57f2",
   "metadata": {},
   "outputs": [
    {
     "data": {
      "text/plain": [
       "1.6448536269514722"
      ]
     },
     "execution_count": 15,
     "metadata": {},
     "output_type": "execute_result"
    }
   ],
   "source": [
    "#Part-(a) \n",
    "confidence_level=0.90\n",
    "z_score=norm.ppf((1+confidence_level)/2)\n",
    "z_score"
   ]
  },
  {
   "cell_type": "code",
   "execution_count": 19,
   "id": "b6cbbdcd-9cfa-4657-9b93-12a8574cf3b3",
   "metadata": {},
   "outputs": [
    {
     "data": {
      "text/plain": [
       "97.60003882151345"
      ]
     },
     "execution_count": 19,
     "metadata": {},
     "output_type": "execute_result"
    }
   ],
   "source": [
    "margin_of_error=z_score*standard_error\n",
    "margin_of_error"
   ]
  },
  {
   "cell_type": "code",
   "execution_count": 23,
   "id": "fc89801f-fcef-48c3-a3c6-3232c079f2c4",
   "metadata": {},
   "outputs": [
    {
     "data": {
      "text/plain": [
       "3486"
      ]
     },
     "execution_count": 23,
     "metadata": {},
     "output_type": "execute_result"
    }
   ],
   "source": [
    "sample_mean=3486\n",
    "sample_mean"
   ]
  },
  {
   "cell_type": "code",
   "execution_count": 25,
   "id": "4b6ab100-8562-476f-9861-bf2bbfe62ee4",
   "metadata": {},
   "outputs": [
    {
     "data": {
      "text/plain": [
       "array([3388.39996118, 3583.60003882])"
      ]
     },
     "execution_count": 25,
     "metadata": {},
     "output_type": "execute_result"
    }
   ],
   "source": [
    "lower_bound=sample_mean-margin_of_error\n",
    "upper_bound=sample_mean+margin_of_error\n",
    "confidence_interval=np.array([lower_bound,upper_bound])\n",
    "confidence_interval"
   ]
  },
  {
   "cell_type": "code",
   "execution_count": 27,
   "id": "7b5e4518-e9f3-47a8-b63a-6677a50f39a2",
   "metadata": {},
   "outputs": [
    {
     "name": "stdout",
     "output_type": "stream",
     "text": [
      "[3388.4 3583.6]\n"
     ]
    }
   ],
   "source": [
    "CI=np.round(confidence_interval,decimals=2)\n",
    "print(CI)"
   ]
  },
  {
   "cell_type": "code",
   "execution_count": 29,
   "id": "ff7570b6-6bb9-4cfd-95a5-0e4f6813be91",
   "metadata": {},
   "outputs": [
    {
     "data": {
      "text/plain": [
       "1.959963984540054"
      ]
     },
     "execution_count": 29,
     "metadata": {},
     "output_type": "execute_result"
    }
   ],
   "source": [
    "#Part-(b)\n",
    "confidence_level=0.95\n",
    "z_score=norm.ppf((1+confidence_level)/2)\n",
    "z_score"
   ]
  },
  {
   "cell_type": "code",
   "execution_count": 31,
   "id": "1502be50-2723-4cb9-9a01-6eda0797aa9f",
   "metadata": {},
   "outputs": [
    {
     "data": {
      "text/plain": [
       "116.2976193416152"
      ]
     },
     "execution_count": 31,
     "metadata": {},
     "output_type": "execute_result"
    }
   ],
   "source": [
    "margin_of_error=z_score*standard_error\n",
    "margin_of_error"
   ]
  },
  {
   "cell_type": "code",
   "execution_count": 33,
   "id": "8f0af749-a735-4fbe-be17-190fb5dfb55e",
   "metadata": {},
   "outputs": [
    {
     "data": {
      "text/plain": [
       "array([3369.70238066, 3602.29761934])"
      ]
     },
     "execution_count": 33,
     "metadata": {},
     "output_type": "execute_result"
    }
   ],
   "source": [
    "lower_bound=sample_mean-margin_of_error\n",
    "upper_bound=sample_mean+margin_of_error\n",
    "confidence_interval=np.array([lower_bound,upper_bound])\n",
    "confidence_interval"
   ]
  },
  {
   "cell_type": "code",
   "execution_count": 35,
   "id": "1c235691-f310-4179-a881-46ed3890e83b",
   "metadata": {},
   "outputs": [
    {
     "name": "stdout",
     "output_type": "stream",
     "text": [
      "[3369.7 3602.3]\n"
     ]
    }
   ],
   "source": [
    "CI=np.round(confidence_interval,decimals=2)\n",
    "print(CI)"
   ]
  },
  {
   "cell_type": "code",
   "execution_count": 37,
   "id": "2a8e34c8-77eb-4fea-8bcb-634fc658a260",
   "metadata": {},
   "outputs": [
    {
     "data": {
      "text/plain": [
       "2.5758293035489004"
      ]
     },
     "execution_count": 37,
     "metadata": {},
     "output_type": "execute_result"
    }
   ],
   "source": [
    "#Part-(c) \n",
    "confidence_level=0.99\n",
    "z_score=norm.ppf((1+confidence_level)/2)\n",
    "z_score"
   ]
  },
  {
   "cell_type": "code",
   "execution_count": 39,
   "id": "be9ac7bd-b64b-41ff-bc2b-fe6ceb0ea689",
   "metadata": {},
   "outputs": [
    {
     "data": {
      "text/plain": [
       "152.8409798322934"
      ]
     },
     "execution_count": 39,
     "metadata": {},
     "output_type": "execute_result"
    }
   ],
   "source": [
    "margin_of_error=z_score*standard_error\n",
    "margin_of_error"
   ]
  },
  {
   "cell_type": "code",
   "execution_count": 41,
   "id": "ca162d0c-b174-4f3d-a1fa-aad6491e32dc",
   "metadata": {},
   "outputs": [
    {
     "data": {
      "text/plain": [
       "array([3333.15902017, 3638.84097983])"
      ]
     },
     "execution_count": 41,
     "metadata": {},
     "output_type": "execute_result"
    }
   ],
   "source": [
    "lower_bound=sample_mean-margin_of_error\n",
    "upper_bound=sample_mean+margin_of_error\n",
    "confidence_interval=np.array([lower_bound,upper_bound])\n",
    "confidence_interval"
   ]
  },
  {
   "cell_type": "code",
   "execution_count": 43,
   "id": "b2a389b5-1b1e-41f3-a5d1-44c2d5a3c131",
   "metadata": {},
   "outputs": [
    {
     "name": "stdout",
     "output_type": "stream",
     "text": [
      "[3333.16 3638.84]\n"
     ]
    }
   ],
   "source": [
    "CI=np.round(confidence_interval,decimals=2)\n",
    "print(CI)"
   ]
  },
  {
   "cell_type": "code",
   "execution_count": null,
   "id": "2dd9caa3-4b9f-4fd7-9ac1-16dd7b5a503a",
   "metadata": {},
   "outputs": [],
   "source": []
  }
 ],
 "metadata": {
  "kernelspec": {
   "display_name": "Python 3 (ipykernel)",
   "language": "python",
   "name": "python3"
  },
  "language_info": {
   "codemirror_mode": {
    "name": "ipython",
    "version": 3
   },
   "file_extension": ".py",
   "mimetype": "text/x-python",
   "name": "python",
   "nbconvert_exporter": "python",
   "pygments_lexer": "ipython3",
   "version": "3.12.4"
  }
 },
 "nbformat": 4,
 "nbformat_minor": 5
}
