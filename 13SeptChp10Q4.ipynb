{
 "cells": [
  {
   "cell_type": "code",
   "execution_count": 1,
   "id": "e053a14d-ec16-4334-8db5-f76918c573af",
   "metadata": {},
   "outputs": [],
   "source": [
    "#Question 4 page 844\n",
    "import pandas as pd\n",
    "import numpy as np\n",
    "import scipy.stats as stat\n",
    "from scipy.stats import norm\n"
   ]
  },
  {
   "cell_type": "code",
   "execution_count": 3,
   "id": "066cbbe1-e582-48d5-a7da-f5974a5942ac",
   "metadata": {},
   "outputs": [],
   "source": [
    "#data \n",
    "n1 = 37\n",
    "n2=44\n",
    "x1bar=85.36\n",
    "x2bar=81.40\n",
    "sigma1=4.55\n",
    "sigma2=3.97"
   ]
  },
  {
   "cell_type": "code",
   "execution_count": 5,
   "id": "5dc6f6fc-74a8-4901-bda1-01ec834ac43e",
   "metadata": {},
   "outputs": [
    {
     "name": "stdout",
     "output_type": "stream",
     "text": [
      "point estimate: 3.96\n"
     ]
    }
   ],
   "source": [
    "#start point estimate\n",
    "PE =np.round((x1bar-x2bar), decimals=4)\n",
    "print(\"point estimate:\", PE)"
   ]
  },
  {
   "cell_type": "code",
   "execution_count": 13,
   "id": "b0eb8ddb-8b3e-4100-86b1-403cf6f13e77",
   "metadata": {},
   "outputs": [
    {
     "data": {
      "text/plain": [
       "0.957981889053389"
      ]
     },
     "execution_count": 13,
     "metadata": {},
     "output_type": "execute_result"
    }
   ],
   "source": [
    "#calculate standard error\n",
    "std_error=np.sqrt((sigma1**2/n1) + (sigma2**2/n2))\n",
    "std_error"
   ]
  },
  {
   "cell_type": "code",
   "execution_count": 15,
   "id": "2dee2727-d08e-40df-be0c-9f53023876b1",
   "metadata": {},
   "outputs": [
    {
     "name": "stdout",
     "output_type": "stream",
     "text": [
      "zcri=: 1.96\n"
     ]
    }
   ],
   "source": [
    "#calculate zcri\n",
    "alpha=0.05          #significance level\n",
    "zcri =np.round((norm.ppf(1-alpha/2)),decimals=2)  # two-tailed test\n",
    "print(\"zcri=:\",zcri)"
   ]
  },
  {
   "cell_type": "code",
   "execution_count": 17,
   "id": "c814dabc-9ca9-4170-aacd-9a6550ba11b2",
   "metadata": {},
   "outputs": [
    {
     "name": "stdout",
     "output_type": "stream",
     "text": [
      "1.8776445025446424\n"
     ]
    }
   ],
   "source": [
    "# b) Calculate MOE\n",
    "MOE = std_error*zcri\n",
    "print(MOE)\n"
   ]
  },
  {
   "cell_type": "code",
   "execution_count": 21,
   "id": "787d58a8-cddb-4469-946f-c4405213a9fa",
   "metadata": {},
   "outputs": [
    {
     "name": "stdout",
     "output_type": "stream",
     "text": [
      "[2.0823555 5.8376445]\n"
     ]
    }
   ],
   "source": [
    "#Confidence interval\n",
    "lower_bound=PE-MOE\n",
    "upper_bound=PE+MOE\n",
    "CI=np.array([lower_bound,upper_bound])\n",
    "print(CI)"
   ]
  },
  {
   "cell_type": "code",
   "execution_count": null,
   "id": "89cd3de0-c64e-4368-afe7-acc2b0d952e1",
   "metadata": {},
   "outputs": [],
   "source": []
  }
 ],
 "metadata": {
  "kernelspec": {
   "display_name": "Python 3 (ipykernel)",
   "language": "python",
   "name": "python3"
  },
  "language_info": {
   "codemirror_mode": {
    "name": "ipython",
    "version": 3
   },
   "file_extension": ".py",
   "mimetype": "text/x-python",
   "name": "python",
   "nbconvert_exporter": "python",
   "pygments_lexer": "ipython3",
   "version": "3.12.4"
  }
 },
 "nbformat": 4,
 "nbformat_minor": 5
}
