{
 "cells": [
  {
   "cell_type": "code",
   "execution_count": 18,
   "id": "32b0113f-bc08-4660-b5b7-7dd5c1857bbc",
   "metadata": {},
   "outputs": [],
   "source": [
    "import numpy as np\n",
    "import pandas as pd\n",
    "import scipy.stats as stat\n",
    "from scipy.stats import norm \n"
   ]
  },
  {
   "cell_type": "code",
   "execution_count": 22,
   "id": "affec930-2bc2-49a5-9317-35e91085dd28",
   "metadata": {},
   "outputs": [],
   "source": [
    "#Question No 5 (Page-380) \n",
    "houston=pd.read_csv(\"C:/Users/asus/Desktop/DEVP/Statistics - SMDA/houston.csv\")"
   ]
  },
  {
   "cell_type": "code",
   "execution_count": 24,
   "id": "ab273200-8a96-45a0-8e80-49f33f19d73c",
   "metadata": {},
   "outputs": [
    {
     "data": {
      "text/html": [
       "<div>\n",
       "<style scoped>\n",
       "    .dataframe tbody tr th:only-of-type {\n",
       "        vertical-align: middle;\n",
       "    }\n",
       "\n",
       "    .dataframe tbody tr th {\n",
       "        vertical-align: top;\n",
       "    }\n",
       "\n",
       "    .dataframe thead th {\n",
       "        text-align: right;\n",
       "    }\n",
       "</style>\n",
       "<table border=\"1\" class=\"dataframe\">\n",
       "  <thead>\n",
       "    <tr style=\"text-align: right;\">\n",
       "      <th></th>\n",
       "      <th>Amount</th>\n",
       "    </tr>\n",
       "  </thead>\n",
       "  <tbody>\n",
       "    <tr>\n",
       "      <th>0</th>\n",
       "      <td>20.50</td>\n",
       "    </tr>\n",
       "    <tr>\n",
       "      <th>1</th>\n",
       "      <td>14.63</td>\n",
       "    </tr>\n",
       "    <tr>\n",
       "      <th>2</th>\n",
       "      <td>23.77</td>\n",
       "    </tr>\n",
       "    <tr>\n",
       "      <th>3</th>\n",
       "      <td>29.96</td>\n",
       "    </tr>\n",
       "    <tr>\n",
       "      <th>4</th>\n",
       "      <td>29.49</td>\n",
       "    </tr>\n",
       "    <tr>\n",
       "      <th>...</th>\n",
       "      <td>...</td>\n",
       "    </tr>\n",
       "    <tr>\n",
       "      <th>59</th>\n",
       "      <td>15.61</td>\n",
       "    </tr>\n",
       "    <tr>\n",
       "      <th>60</th>\n",
       "      <td>26.46</td>\n",
       "    </tr>\n",
       "    <tr>\n",
       "      <th>61</th>\n",
       "      <td>24.24</td>\n",
       "    </tr>\n",
       "    <tr>\n",
       "      <th>62</th>\n",
       "      <td>16.66</td>\n",
       "    </tr>\n",
       "    <tr>\n",
       "      <th>63</th>\n",
       "      <td>20.85</td>\n",
       "    </tr>\n",
       "  </tbody>\n",
       "</table>\n",
       "<p>64 rows × 1 columns</p>\n",
       "</div>"
      ],
      "text/plain": [
       "    Amount\n",
       "0    20.50\n",
       "1    14.63\n",
       "2    23.77\n",
       "3    29.96\n",
       "4    29.49\n",
       "..     ...\n",
       "59   15.61\n",
       "60   26.46\n",
       "61   24.24\n",
       "62   16.66\n",
       "63   20.85\n",
       "\n",
       "[64 rows x 1 columns]"
      ]
     },
     "execution_count": 24,
     "metadata": {},
     "output_type": "execute_result"
    }
   ],
   "source": [
    "houston"
   ]
  },
  {
   "cell_type": "code",
   "execution_count": 26,
   "id": "0ec93251-ee33-49b6-9913-1d8ba22b7f05",
   "metadata": {},
   "outputs": [
    {
     "data": {
      "text/plain": [
       "Amount    21.52\n",
       "dtype: float64"
      ]
     },
     "execution_count": 26,
     "metadata": {},
     "output_type": "execute_result"
    }
   ],
   "source": [
    "sample_mean=houston.mean()\n",
    "sample_mean"
   ]
  },
  {
   "cell_type": "code",
   "execution_count": 28,
   "id": "dbbaeca8-6b1b-48ea-9924-96c133adc6a1",
   "metadata": {},
   "outputs": [
    {
     "data": {
      "text/plain": [
       "64"
      ]
     },
     "execution_count": 28,
     "metadata": {},
     "output_type": "execute_result"
    }
   ],
   "source": [
    "n=len(houston)\n",
    "n\n",
    "#if in case sample size is not given in the ques"
   ]
  },
  {
   "cell_type": "code",
   "execution_count": 32,
   "id": "15a6e612-cd48-4156-97d2-26c5de2780b5",
   "metadata": {},
   "outputs": [
    {
     "data": {
      "text/plain": [
       "0.75"
      ]
     },
     "execution_count": 32,
     "metadata": {},
     "output_type": "execute_result"
    }
   ],
   "source": [
    "sigma=6\n",
    "standard_error=sigma/(n**0.5)\n",
    "standard_error \n",
    "#in python raise to the power is denoted by '**'"
   ]
  },
  {
   "cell_type": "code",
   "execution_count": 36,
   "id": "22cc130a-5fbb-498e-8c7d-7ec137c691d0",
   "metadata": {},
   "outputs": [
    {
     "data": {
      "text/plain": [
       "2.5758293035489004"
      ]
     },
     "execution_count": 36,
     "metadata": {},
     "output_type": "execute_result"
    }
   ],
   "source": [
    "#set the desired level of confidence\n",
    "confidence_level=0.99\n",
    "#calculate the z-score corresponding to confidence level\n",
    "z_score=norm.ppf((1+confidence_level)/2)\n",
    "z_score"
   ]
  },
  {
   "cell_type": "code",
   "execution_count": 40,
   "id": "6987b247-26b8-43ab-ad3a-586697208b8e",
   "metadata": {},
   "outputs": [
    {
     "data": {
      "text/plain": [
       "1.9318719776616753"
      ]
     },
     "execution_count": 40,
     "metadata": {},
     "output_type": "execute_result"
    }
   ],
   "source": [
    "margin_of_error=z_score*standard_error\n",
    "margin_of_error\n",
    "#from formula of mean"
   ]
  },
  {
   "cell_type": "code",
   "execution_count": 42,
   "id": "08eaef69-20ad-4a38-8736-598e6de603b6",
   "metadata": {},
   "outputs": [
    {
     "data": {
      "text/plain": [
       "array([[19.58812802],\n",
       "       [23.45187198]])"
      ]
     },
     "execution_count": 42,
     "metadata": {},
     "output_type": "execute_result"
    }
   ],
   "source": [
    "#Confidence interval\n",
    "lower_bound=sample_mean-margin_of_error\n",
    "upper_bound=sample_mean+margin_of_error\n",
    "confidence_interval=np.array([lower_bound,upper_bound])\n",
    "confidence_interval"
   ]
  },
  {
   "cell_type": "code",
   "execution_count": 44,
   "id": "8b206453-031d-40d5-bad3-ca6c24c86464",
   "metadata": {},
   "outputs": [
    {
     "name": "stdout",
     "output_type": "stream",
     "text": [
      "[[19.59]\n",
      " [23.45]]\n"
     ]
    }
   ],
   "source": [
    "CI=np.round(confidence_interval,decimals=2)\n",
    "print(CI)"
   ]
  },
  {
   "cell_type": "code",
   "execution_count": 54,
   "id": "1bc6b691-57ca-4d9e-bce4-7df869e45c54",
   "metadata": {},
   "outputs": [],
   "source": [
    "#Question No 7 (Page-380)\n",
    "setters=pd.read_csv(\"C:/Users/asus/Desktop/DEVP/Statistics - SMDA/setters.csv\")\n"
   ]
  },
  {
   "cell_type": "code",
   "execution_count": 56,
   "id": "a5045b88-c584-47a7-86f0-2f197cf3b25f",
   "metadata": {},
   "outputs": [
    {
     "data": {
      "text/html": [
       "<div>\n",
       "<style scoped>\n",
       "    .dataframe tbody tr th:only-of-type {\n",
       "        vertical-align: middle;\n",
       "    }\n",
       "\n",
       "    .dataframe tbody tr th {\n",
       "        vertical-align: top;\n",
       "    }\n",
       "\n",
       "    .dataframe thead th {\n",
       "        text-align: right;\n",
       "    }\n",
       "</style>\n",
       "<table border=\"1\" class=\"dataframe\">\n",
       "  <thead>\n",
       "    <tr style=\"text-align: right;\">\n",
       "      <th></th>\n",
       "      <th>Cost ($)</th>\n",
       "    </tr>\n",
       "  </thead>\n",
       "  <tbody>\n",
       "    <tr>\n",
       "      <th>0</th>\n",
       "      <td>1902</td>\n",
       "    </tr>\n",
       "    <tr>\n",
       "      <th>1</th>\n",
       "      <td>2042</td>\n",
       "    </tr>\n",
       "    <tr>\n",
       "      <th>2</th>\n",
       "      <td>1936</td>\n",
       "    </tr>\n",
       "    <tr>\n",
       "      <th>3</th>\n",
       "      <td>1817</td>\n",
       "    </tr>\n",
       "    <tr>\n",
       "      <th>4</th>\n",
       "      <td>1504</td>\n",
       "    </tr>\n",
       "    <tr>\n",
       "      <th>5</th>\n",
       "      <td>1572</td>\n",
       "    </tr>\n",
       "    <tr>\n",
       "      <th>6</th>\n",
       "      <td>1532</td>\n",
       "    </tr>\n",
       "    <tr>\n",
       "      <th>7</th>\n",
       "      <td>1907</td>\n",
       "    </tr>\n",
       "    <tr>\n",
       "      <th>8</th>\n",
       "      <td>1882</td>\n",
       "    </tr>\n",
       "    <tr>\n",
       "      <th>9</th>\n",
       "      <td>2153</td>\n",
       "    </tr>\n",
       "    <tr>\n",
       "      <th>10</th>\n",
       "      <td>1945</td>\n",
       "    </tr>\n",
       "    <tr>\n",
       "      <th>11</th>\n",
       "      <td>1335</td>\n",
       "    </tr>\n",
       "    <tr>\n",
       "      <th>12</th>\n",
       "      <td>2006</td>\n",
       "    </tr>\n",
       "    <tr>\n",
       "      <th>13</th>\n",
       "      <td>1516</td>\n",
       "    </tr>\n",
       "    <tr>\n",
       "      <th>14</th>\n",
       "      <td>1839</td>\n",
       "    </tr>\n",
       "    <tr>\n",
       "      <th>15</th>\n",
       "      <td>1739</td>\n",
       "    </tr>\n",
       "    <tr>\n",
       "      <th>16</th>\n",
       "      <td>1456</td>\n",
       "    </tr>\n",
       "    <tr>\n",
       "      <th>17</th>\n",
       "      <td>1958</td>\n",
       "    </tr>\n",
       "    <tr>\n",
       "      <th>18</th>\n",
       "      <td>1934</td>\n",
       "    </tr>\n",
       "    <tr>\n",
       "      <th>19</th>\n",
       "      <td>2094</td>\n",
       "    </tr>\n",
       "    <tr>\n",
       "      <th>20</th>\n",
       "      <td>1739</td>\n",
       "    </tr>\n",
       "    <tr>\n",
       "      <th>21</th>\n",
       "      <td>1434</td>\n",
       "    </tr>\n",
       "    <tr>\n",
       "      <th>22</th>\n",
       "      <td>1667</td>\n",
       "    </tr>\n",
       "    <tr>\n",
       "      <th>23</th>\n",
       "      <td>1679</td>\n",
       "    </tr>\n",
       "    <tr>\n",
       "      <th>24</th>\n",
       "      <td>1736</td>\n",
       "    </tr>\n",
       "    <tr>\n",
       "      <th>25</th>\n",
       "      <td>1670</td>\n",
       "    </tr>\n",
       "    <tr>\n",
       "      <th>26</th>\n",
       "      <td>1770</td>\n",
       "    </tr>\n",
       "    <tr>\n",
       "      <th>27</th>\n",
       "      <td>2052</td>\n",
       "    </tr>\n",
       "    <tr>\n",
       "      <th>28</th>\n",
       "      <td>1379</td>\n",
       "    </tr>\n",
       "    <tr>\n",
       "      <th>29</th>\n",
       "      <td>1939</td>\n",
       "    </tr>\n",
       "    <tr>\n",
       "      <th>30</th>\n",
       "      <td>1854</td>\n",
       "    </tr>\n",
       "    <tr>\n",
       "      <th>31</th>\n",
       "      <td>1913</td>\n",
       "    </tr>\n",
       "    <tr>\n",
       "      <th>32</th>\n",
       "      <td>2163</td>\n",
       "    </tr>\n",
       "    <tr>\n",
       "      <th>33</th>\n",
       "      <td>1737</td>\n",
       "    </tr>\n",
       "    <tr>\n",
       "      <th>34</th>\n",
       "      <td>1888</td>\n",
       "    </tr>\n",
       "    <tr>\n",
       "      <th>35</th>\n",
       "      <td>1737</td>\n",
       "    </tr>\n",
       "    <tr>\n",
       "      <th>36</th>\n",
       "      <td>2230</td>\n",
       "    </tr>\n",
       "    <tr>\n",
       "      <th>37</th>\n",
       "      <td>2131</td>\n",
       "    </tr>\n",
       "    <tr>\n",
       "      <th>38</th>\n",
       "      <td>1813</td>\n",
       "    </tr>\n",
       "    <tr>\n",
       "      <th>39</th>\n",
       "      <td>2118</td>\n",
       "    </tr>\n",
       "    <tr>\n",
       "      <th>40</th>\n",
       "      <td>1978</td>\n",
       "    </tr>\n",
       "    <tr>\n",
       "      <th>41</th>\n",
       "      <td>2166</td>\n",
       "    </tr>\n",
       "    <tr>\n",
       "      <th>42</th>\n",
       "      <td>1482</td>\n",
       "    </tr>\n",
       "    <tr>\n",
       "      <th>43</th>\n",
       "      <td>1700</td>\n",
       "    </tr>\n",
       "    <tr>\n",
       "      <th>44</th>\n",
       "      <td>1679</td>\n",
       "    </tr>\n",
       "    <tr>\n",
       "      <th>45</th>\n",
       "      <td>2060</td>\n",
       "    </tr>\n",
       "    <tr>\n",
       "      <th>46</th>\n",
       "      <td>1683</td>\n",
       "    </tr>\n",
       "    <tr>\n",
       "      <th>47</th>\n",
       "      <td>1850</td>\n",
       "    </tr>\n",
       "    <tr>\n",
       "      <th>48</th>\n",
       "      <td>2232</td>\n",
       "    </tr>\n",
       "    <tr>\n",
       "      <th>49</th>\n",
       "      <td>2294</td>\n",
       "    </tr>\n",
       "  </tbody>\n",
       "</table>\n",
       "</div>"
      ],
      "text/plain": [
       "    Cost ($)\n",
       "0       1902\n",
       "1       2042\n",
       "2       1936\n",
       "3       1817\n",
       "4       1504\n",
       "5       1572\n",
       "6       1532\n",
       "7       1907\n",
       "8       1882\n",
       "9       2153\n",
       "10      1945\n",
       "11      1335\n",
       "12      2006\n",
       "13      1516\n",
       "14      1839\n",
       "15      1739\n",
       "16      1456\n",
       "17      1958\n",
       "18      1934\n",
       "19      2094\n",
       "20      1739\n",
       "21      1434\n",
       "22      1667\n",
       "23      1679\n",
       "24      1736\n",
       "25      1670\n",
       "26      1770\n",
       "27      2052\n",
       "28      1379\n",
       "29      1939\n",
       "30      1854\n",
       "31      1913\n",
       "32      2163\n",
       "33      1737\n",
       "34      1888\n",
       "35      1737\n",
       "36      2230\n",
       "37      2131\n",
       "38      1813\n",
       "39      2118\n",
       "40      1978\n",
       "41      2166\n",
       "42      1482\n",
       "43      1700\n",
       "44      1679\n",
       "45      2060\n",
       "46      1683\n",
       "47      1850\n",
       "48      2232\n",
       "49      2294"
      ]
     },
     "execution_count": 56,
     "metadata": {},
     "output_type": "execute_result"
    }
   ],
   "source": [
    "setters\n"
   ]
  },
  {
   "cell_type": "code",
   "execution_count": 58,
   "id": "2aa9c011-8af0-46a4-9c9b-f1a44696bb74",
   "metadata": {},
   "outputs": [
    {
     "data": {
      "text/plain": [
       "Cost ($)    1836.84\n",
       "dtype: float64"
      ]
     },
     "execution_count": 58,
     "metadata": {},
     "output_type": "execute_result"
    }
   ],
   "source": [
    "sample_mean=setters.mean()\n",
    "sample_mean"
   ]
  },
  {
   "cell_type": "code",
   "execution_count": 60,
   "id": "4740ba96-c6c2-4664-9820-733c67dbf9f9",
   "metadata": {},
   "outputs": [
    {
     "data": {
      "text/plain": [
       "50"
      ]
     },
     "execution_count": 60,
     "metadata": {},
     "output_type": "execute_result"
    }
   ],
   "source": [
    "n=len(setters)\n",
    "n"
   ]
  },
  {
   "cell_type": "code",
   "execution_count": 62,
   "id": "ed92606f-807e-4df4-99c1-524f1fda3ce0",
   "metadata": {},
   "outputs": [
    {
     "data": {
      "text/plain": [
       "36.062445840513924"
      ]
     },
     "execution_count": 62,
     "metadata": {},
     "output_type": "execute_result"
    }
   ],
   "source": [
    "sigma=255\n",
    "standard_error=sigma/(n**0.5)\n",
    "standard_error "
   ]
  },
  {
   "cell_type": "code",
   "execution_count": 64,
   "id": "9c628e61-8792-4435-88dc-348ea307efd9",
   "metadata": {},
   "outputs": [
    {
     "data": {
      "text/plain": [
       "1.959963984540054"
      ]
     },
     "execution_count": 64,
     "metadata": {},
     "output_type": "execute_result"
    }
   ],
   "source": [
    "confidence_level=0.95\n",
    "z_score=norm.ppf((1+confidence_level)/2)\n",
    "z_score"
   ]
  },
  {
   "cell_type": "code",
   "execution_count": 66,
   "id": "94cb214e-3d21-4537-aa6b-4f70a80e89ab",
   "metadata": {},
   "outputs": [
    {
     "data": {
      "text/plain": [
       "70.68109504183357"
      ]
     },
     "execution_count": 66,
     "metadata": {},
     "output_type": "execute_result"
    }
   ],
   "source": [
    "margin_of_error=z_score*standard_error\n",
    "margin_of_error"
   ]
  },
  {
   "cell_type": "code",
   "execution_count": 68,
   "id": "ca0d850f-4322-41fd-8c4c-7fb9046f527a",
   "metadata": {},
   "outputs": [
    {
     "data": {
      "text/plain": [
       "array([[1766.15890496],\n",
       "       [1907.52109504]])"
      ]
     },
     "execution_count": 68,
     "metadata": {},
     "output_type": "execute_result"
    }
   ],
   "source": [
    "lower_bound=sample_mean-margin_of_error\n",
    "upper_bound=sample_mean+margin_of_error\n",
    "confidence_interval=np.array([lower_bound,upper_bound])\n",
    "confidence_interval"
   ]
  },
  {
   "cell_type": "code",
   "execution_count": 70,
   "id": "63d011a2-32ce-46ef-b294-8c76ff6fb81e",
   "metadata": {},
   "outputs": [
    {
     "name": "stdout",
     "output_type": "stream",
     "text": [
      "[[1766.16]\n",
      " [1907.52]]\n"
     ]
    }
   ],
   "source": [
    "CI=np.round(confidence_interval,decimals=2)\n",
    "print(CI)"
   ]
  },
  {
   "cell_type": "code",
   "execution_count": null,
   "id": "49f2fe1d-aa63-4d2f-8cbf-e9277533751a",
   "metadata": {},
   "outputs": [],
   "source": []
  }
 ],
 "metadata": {
  "kernelspec": {
   "display_name": "Python 3 (ipykernel)",
   "language": "python",
   "name": "python3"
  },
  "language_info": {
   "codemirror_mode": {
    "name": "ipython",
    "version": 3
   },
   "file_extension": ".py",
   "mimetype": "text/x-python",
   "name": "python",
   "nbconvert_exporter": "python",
   "pygments_lexer": "ipython3",
   "version": "3.12.4"
  }
 },
 "nbformat": 4,
 "nbformat_minor": 5
}
