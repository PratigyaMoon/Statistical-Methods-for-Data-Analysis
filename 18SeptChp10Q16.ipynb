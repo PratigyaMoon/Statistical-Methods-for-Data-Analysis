{
 "cells": [
  {
   "cell_type": "code",
   "execution_count": 21,
   "id": "c0e6cacb-db2d-4397-9114-f02285d34b16",
   "metadata": {},
   "outputs": [],
   "source": [
    "#Question 16 page 496 \n",
    "import pandas as pd\n",
    "import numpy as np\n",
    "import scipy.stats as stats\n",
    "from scipy.stats import t\n",
    "from scipy.stats import norm"
   ]
  },
  {
   "cell_type": "code",
   "execution_count": 22,
   "id": "4199789b-b21f-46bd-97d0-a62154b9a657",
   "metadata": {},
   "outputs": [],
   "source": [
    "satmath1=pd.read_csv(\"C:/Users/asus/Desktop/SMDA solved/PythonStatistics - SMDA/satmath1.csv\")\n",
    "satmath2=pd.read_csv(\"C:/Users/asus/Desktop/SMDA solved/PythonStatistics - SMDA/satmath2.csv\")"
   ]
  },
  {
   "cell_type": "code",
   "execution_count": 23,
   "id": "24460cba-ae75-4a3e-9ad7-30598a2e091b",
   "metadata": {},
   "outputs": [
    {
     "data": {
      "text/html": [
       "<div>\n",
       "<style scoped>\n",
       "    .dataframe tbody tr th:only-of-type {\n",
       "        vertical-align: middle;\n",
       "    }\n",
       "\n",
       "    .dataframe tbody tr th {\n",
       "        vertical-align: top;\n",
       "    }\n",
       "\n",
       "    .dataframe thead th {\n",
       "        text-align: right;\n",
       "    }\n",
       "</style>\n",
       "<table border=\"1\" class=\"dataframe\">\n",
       "  <thead>\n",
       "    <tr style=\"text-align: right;\">\n",
       "      <th></th>\n",
       "      <th>College</th>\n",
       "    </tr>\n",
       "  </thead>\n",
       "  <tbody>\n",
       "    <tr>\n",
       "      <th>0</th>\n",
       "      <td>485</td>\n",
       "    </tr>\n",
       "    <tr>\n",
       "      <th>1</th>\n",
       "      <td>534</td>\n",
       "    </tr>\n",
       "    <tr>\n",
       "      <th>2</th>\n",
       "      <td>650</td>\n",
       "    </tr>\n",
       "    <tr>\n",
       "      <th>3</th>\n",
       "      <td>554</td>\n",
       "    </tr>\n",
       "    <tr>\n",
       "      <th>4</th>\n",
       "      <td>550</td>\n",
       "    </tr>\n",
       "    <tr>\n",
       "      <th>5</th>\n",
       "      <td>572</td>\n",
       "    </tr>\n",
       "    <tr>\n",
       "      <th>6</th>\n",
       "      <td>497</td>\n",
       "    </tr>\n",
       "    <tr>\n",
       "      <th>7</th>\n",
       "      <td>592</td>\n",
       "    </tr>\n",
       "    <tr>\n",
       "      <th>8</th>\n",
       "      <td>487</td>\n",
       "    </tr>\n",
       "    <tr>\n",
       "      <th>9</th>\n",
       "      <td>533</td>\n",
       "    </tr>\n",
       "    <tr>\n",
       "      <th>10</th>\n",
       "      <td>526</td>\n",
       "    </tr>\n",
       "    <tr>\n",
       "      <th>11</th>\n",
       "      <td>410</td>\n",
       "    </tr>\n",
       "    <tr>\n",
       "      <th>12</th>\n",
       "      <td>515</td>\n",
       "    </tr>\n",
       "    <tr>\n",
       "      <th>13</th>\n",
       "      <td>578</td>\n",
       "    </tr>\n",
       "    <tr>\n",
       "      <th>14</th>\n",
       "      <td>448</td>\n",
       "    </tr>\n",
       "    <tr>\n",
       "      <th>15</th>\n",
       "      <td>469</td>\n",
       "    </tr>\n",
       "  </tbody>\n",
       "</table>\n",
       "</div>"
      ],
      "text/plain": [
       "    College\n",
       "0       485\n",
       "1       534\n",
       "2       650\n",
       "3       554\n",
       "4       550\n",
       "5       572\n",
       "6       497\n",
       "7       592\n",
       "8       487\n",
       "9       533\n",
       "10      526\n",
       "11      410\n",
       "12      515\n",
       "13      578\n",
       "14      448\n",
       "15      469"
      ]
     },
     "execution_count": 23,
     "metadata": {},
     "output_type": "execute_result"
    }
   ],
   "source": [
    "satmath1"
   ]
  },
  {
   "cell_type": "code",
   "execution_count": 24,
   "id": "38c620ea-3c93-4e5e-8b28-f5ea0779406a",
   "metadata": {},
   "outputs": [
    {
     "data": {
      "text/html": [
       "<div>\n",
       "<style scoped>\n",
       "    .dataframe tbody tr th:only-of-type {\n",
       "        vertical-align: middle;\n",
       "    }\n",
       "\n",
       "    .dataframe tbody tr th {\n",
       "        vertical-align: top;\n",
       "    }\n",
       "\n",
       "    .dataframe thead th {\n",
       "        text-align: right;\n",
       "    }\n",
       "</style>\n",
       "<table border=\"1\" class=\"dataframe\">\n",
       "  <thead>\n",
       "    <tr style=\"text-align: right;\">\n",
       "      <th></th>\n",
       "      <th>High School</th>\n",
       "    </tr>\n",
       "  </thead>\n",
       "  <tbody>\n",
       "    <tr>\n",
       "      <th>0</th>\n",
       "      <td>442</td>\n",
       "    </tr>\n",
       "    <tr>\n",
       "      <th>1</th>\n",
       "      <td>580</td>\n",
       "    </tr>\n",
       "    <tr>\n",
       "      <th>2</th>\n",
       "      <td>479</td>\n",
       "    </tr>\n",
       "    <tr>\n",
       "      <th>3</th>\n",
       "      <td>486</td>\n",
       "    </tr>\n",
       "    <tr>\n",
       "      <th>4</th>\n",
       "      <td>528</td>\n",
       "    </tr>\n",
       "    <tr>\n",
       "      <th>5</th>\n",
       "      <td>524</td>\n",
       "    </tr>\n",
       "    <tr>\n",
       "      <th>6</th>\n",
       "      <td>492</td>\n",
       "    </tr>\n",
       "    <tr>\n",
       "      <th>7</th>\n",
       "      <td>478</td>\n",
       "    </tr>\n",
       "    <tr>\n",
       "      <th>8</th>\n",
       "      <td>425</td>\n",
       "    </tr>\n",
       "    <tr>\n",
       "      <th>9</th>\n",
       "      <td>485</td>\n",
       "    </tr>\n",
       "    <tr>\n",
       "      <th>10</th>\n",
       "      <td>390</td>\n",
       "    </tr>\n",
       "    <tr>\n",
       "      <th>11</th>\n",
       "      <td>535</td>\n",
       "    </tr>\n",
       "  </tbody>\n",
       "</table>\n",
       "</div>"
      ],
      "text/plain": [
       "    High School\n",
       "0           442\n",
       "1           580\n",
       "2           479\n",
       "3           486\n",
       "4           528\n",
       "5           524\n",
       "6           492\n",
       "7           478\n",
       "8           425\n",
       "9           485\n",
       "10          390\n",
       "11          535"
      ]
     },
     "execution_count": 24,
     "metadata": {},
     "output_type": "execute_result"
    }
   ],
   "source": [
    "satmath2"
   ]
  },
  {
   "cell_type": "code",
   "execution_count": 25,
   "id": "683373ab-05f9-412b-9e63-44d642d8cf48",
   "metadata": {},
   "outputs": [],
   "source": [
    "#perform f-test to choose appropriate t-test\n",
    "#Ho : Variances are equal V/s Ha: Variances are different\n",
    "f_statistic , p_value_f = stats.f_oneway(satmath1,satmath2)"
   ]
  },
  {
   "cell_type": "code",
   "execution_count": 26,
   "id": "d36a7814-c234-47d1-b9bd-46720b6558fe",
   "metadata": {},
   "outputs": [
    {
     "name": "stdout",
     "output_type": "stream",
     "text": [
      "Fail to reject the null hypothesis\n",
      "p-value: [0.08890085]\n",
      "f-statistics: [3.12364497]\n",
      "p-value: [0.08890085]\n"
     ]
    }
   ],
   "source": [
    "#Set a significance level (alpha)\n",
    "alpha = 0.05\n",
    "\n",
    "#interpret the results\n",
    "if p_value_f < alpha:\n",
    "  print(\"Reject the null hypothesis\")\n",
    "  print(\"The variance of thhe two populations are significantly different\")\n",
    "else: \n",
    "  print(\"Fail to reject the null hypothesis\")\n",
    "  print(\"p-value:\", p_value_f)\n",
    "\n",
    "#Print the f-statistics and p-value\n",
    "print(\"f-statistics:\", f_statistic)\n",
    "print(\"p-value:\", p_value_f)"
   ]
  },
  {
   "cell_type": "code",
   "execution_count": 34,
   "id": "c219294c-418b-497c-b803-c61f641d0272",
   "metadata": {},
   "outputs": [
    {
     "name": "stdout",
     "output_type": "stream",
     "text": [
      "Ho=mu1-mu2<=0 v/s Ha:mu1-mu2>0\n"
     ]
    }
   ],
   "source": [
    "# use t-test using equal vvariance formula based on the result of f-test\n",
    "# a) state null and alternative hypothesis\n",
    "print(\"Ho=mu1-mu2<=0 v/s Ha:mu1-mu2>0\")"
   ]
  },
  {
   "cell_type": "code",
   "execution_count": 38,
   "id": "cf7db0e8-12b6-4dcd-95f9-8e62e8983d13",
   "metadata": {},
   "outputs": [
    {
     "data": {
      "text/plain": [
       "(16, 12)"
      ]
     },
     "execution_count": 38,
     "metadata": {},
     "output_type": "execute_result"
    }
   ],
   "source": [
    "sample1 = satmath1['College']\n",
    "sample2=satmath2['High School']\n",
    "n1=len(sample1)\n",
    "n2=len(sample2)\n",
    "n1,n2"
   ]
  },
  {
   "cell_type": "code",
   "execution_count": 42,
   "id": "ac2b28d1-5e79-4a41-b008-b9137b8e7476",
   "metadata": {},
   "outputs": [
    {
     "name": "stdout",
     "output_type": "stream",
     "text": [
      "xbar_college=: 525.0\n",
      "sd_college=: 59.42\n",
      "xbar_highschool=: 487.0\n",
      "sd_highschool=: 51.75\n"
     ]
    }
   ],
   "source": [
    "#Calculate sample mean and sample standard deviation\n",
    "xbar1=sample1.mean()\n",
    "xbar2=sample2.mean()\n",
    "sd1=np.round(sample1.std(), decimals=2)\n",
    "sd2=np.round(sample2.std(),decimals=2)\n",
    "print(\"xbar_college=:\",xbar1)\n",
    "print(\"sd_college=:\",sd1)\n",
    "print(\"xbar_highschool=:\",xbar2)\n",
    "print(\"sd_highschool=:\",sd2)"
   ]
  },
  {
   "cell_type": "code",
   "execution_count": 44,
   "id": "e0bf5152-0b7b-48a8-8d3d-ad44f2dcdf61",
   "metadata": {},
   "outputs": [
    {
     "data": {
      "text/plain": [
       "38.0"
      ]
     },
     "execution_count": 44,
     "metadata": {},
     "output_type": "execute_result"
    }
   ],
   "source": [
    "# b) point estimate\n",
    "PE=xbar1-xbar2\n",
    "PE"
   ]
  },
  {
   "cell_type": "code",
   "execution_count": 46,
   "id": "9db5f88c-0f9d-4c17-8726-77b76e0ae656",
   "metadata": {},
   "outputs": [],
   "source": [
    "# PErform the two sample t-test\n",
    "t_stats, p_value= stats.ttest_ind(sample1,sample2)\n",
    "p_value_new=p_value/2 #as we need pvalue for one tail divide p-value by 2\n"
   ]
  },
  {
   "cell_type": "code",
   "execution_count": 50,
   "id": "a198d98e-5799-48e4-90a5-d820a968ba31",
   "metadata": {},
   "outputs": [
    {
     "name": "stdout",
     "output_type": "stream",
     "text": [
      "T-statistic: 1.767383652049587\n",
      "p-value: 0.04445042590522254\n"
     ]
    }
   ],
   "source": [
    "#output results\n",
    "print(\"T-statistic:\", t_stats)\n",
    "print(\"p-value:\", p_value_new)"
   ]
  },
  {
   "cell_type": "code",
   "execution_count": 56,
   "id": "cac769a2-1751-4e67-89fe-2a01f07ebd39",
   "metadata": {},
   "outputs": [
    {
     "name": "stdout",
     "output_type": "stream",
     "text": [
      "Reject the null hypothesis\n",
      "There is enough evidence to conclude that students whose parents are college grads have higher population mean verbal scores than students whose parents are just high school grads.\n"
     ]
    }
   ],
   "source": [
    "#state significance level\n",
    "alpha = 0.05  #significance level\n",
    "if p_value_new < alpha:\n",
    "    print(\"Reject the null hypothesis\")\n",
    "    print(\"There is enough evidence to conclude that students whose parents are college grads have higher population mean verbal scores than students whose parents are just high school grads.\")\n",
    "else:\n",
    "    print(\"Fail to reject the null hypothesis.\")\n",
    "    print(\"There is no significant difference between the means of the two groups.\")"
   ]
  },
  {
   "cell_type": "code",
   "execution_count": null,
   "id": "6b58f1b0-3bdc-4e51-b8e6-0a7b4792ff2c",
   "metadata": {},
   "outputs": [],
   "source": []
  }
 ],
 "metadata": {
  "kernelspec": {
   "display_name": "Python 3 (ipykernel)",
   "language": "python",
   "name": "python3"
  },
  "language_info": {
   "codemirror_mode": {
    "name": "ipython",
    "version": 3
   },
   "file_extension": ".py",
   "mimetype": "text/x-python",
   "name": "python",
   "nbconvert_exporter": "python",
   "pygments_lexer": "ipython3",
   "version": "3.12.4"
  }
 },
 "nbformat": 4,
 "nbformat_minor": 5
}
