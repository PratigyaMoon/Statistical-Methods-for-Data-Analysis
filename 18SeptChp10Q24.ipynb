{
 "cells": [
  {
   "cell_type": "code",
   "execution_count": 1,
   "id": "1030441c-10ae-467f-b6e3-29df7d89e7b0",
   "metadata": {},
   "outputs": [],
   "source": [
    "#Question 24 Page 501 Related/ Dependent/paired/Matched complex\n",
    "import pandas as pd\n",
    "import numpy as np\n",
    "import scipy.stats as stats\n",
    "from scipy.stats import t\n",
    "from scipy.stats import norm"
   ]
  },
  {
   "cell_type": "code",
   "execution_count": 5,
   "id": "8b10944a-7411-443d-bd40-13776545a0ce",
   "metadata": {},
   "outputs": [
    {
     "data": {
      "text/html": [
       "<div>\n",
       "<style scoped>\n",
       "    .dataframe tbody tr th:only-of-type {\n",
       "        vertical-align: middle;\n",
       "    }\n",
       "\n",
       "    .dataframe tbody tr th {\n",
       "        vertical-align: top;\n",
       "    }\n",
       "\n",
       "    .dataframe thead th {\n",
       "        text-align: right;\n",
       "    }\n",
       "</style>\n",
       "<table border=\"1\" class=\"dataframe\">\n",
       "  <thead>\n",
       "    <tr style=\"text-align: right;\">\n",
       "      <th></th>\n",
       "      <th>Current Year</th>\n",
       "      <th>Previous Year</th>\n",
       "    </tr>\n",
       "  </thead>\n",
       "  <tbody>\n",
       "    <tr>\n",
       "      <th>0</th>\n",
       "      <td>345</td>\n",
       "      <td>315</td>\n",
       "    </tr>\n",
       "    <tr>\n",
       "      <th>1</th>\n",
       "      <td>526</td>\n",
       "      <td>463</td>\n",
       "    </tr>\n",
       "    <tr>\n",
       "      <th>2</th>\n",
       "      <td>420</td>\n",
       "      <td>462</td>\n",
       "    </tr>\n",
       "    <tr>\n",
       "      <th>3</th>\n",
       "      <td>216</td>\n",
       "      <td>206</td>\n",
       "    </tr>\n",
       "    <tr>\n",
       "      <th>4</th>\n",
       "      <td>285</td>\n",
       "      <td>275</td>\n",
       "    </tr>\n",
       "    <tr>\n",
       "      <th>5</th>\n",
       "      <td>405</td>\n",
       "      <td>432</td>\n",
       "    </tr>\n",
       "    <tr>\n",
       "      <th>6</th>\n",
       "      <td>635</td>\n",
       "      <td>585</td>\n",
       "    </tr>\n",
       "    <tr>\n",
       "      <th>7</th>\n",
       "      <td>710</td>\n",
       "      <td>650</td>\n",
       "    </tr>\n",
       "    <tr>\n",
       "      <th>8</th>\n",
       "      <td>605</td>\n",
       "      <td>545</td>\n",
       "    </tr>\n",
       "    <tr>\n",
       "      <th>9</th>\n",
       "      <td>517</td>\n",
       "      <td>547</td>\n",
       "    </tr>\n",
       "    <tr>\n",
       "      <th>10</th>\n",
       "      <td>570</td>\n",
       "      <td>508</td>\n",
       "    </tr>\n",
       "    <tr>\n",
       "      <th>11</th>\n",
       "      <td>610</td>\n",
       "      <td>580</td>\n",
       "    </tr>\n",
       "  </tbody>\n",
       "</table>\n",
       "</div>"
      ],
      "text/plain": [
       "    Current Year  Previous Year\n",
       "0            345            315\n",
       "1            526            463\n",
       "2            420            462\n",
       "3            216            206\n",
       "4            285            275\n",
       "5            405            432\n",
       "6            635            585\n",
       "7            710            650\n",
       "8            605            545\n",
       "9            517            547\n",
       "10           570            508\n",
       "11           610            580"
      ]
     },
     "execution_count": 5,
     "metadata": {},
     "output_type": "execute_result"
    }
   ],
   "source": [
    "businesstravel=pd.read_csv(\"C:/Users/asus/Desktop/SMDA solved/PythonStatistics - SMDA/businesstravel.csv\")\n",
    "businesstravel"
   ]
  },
  {
   "cell_type": "code",
   "execution_count": 7,
   "id": "93cc4566-bdc3-4f79-8a74-ee477583102a",
   "metadata": {},
   "outputs": [
    {
     "name": "stdout",
     "output_type": "stream",
     "text": [
      "ho: D<=0 v/s Ha: D>0\n"
     ]
    }
   ],
   "source": [
    "#specify hypothesis\n",
    "print(\"ho: D<=0 v/s Ha: D>0\")    #right tailed test"
   ]
  },
  {
   "cell_type": "code",
   "execution_count": 13,
   "id": "13823f41-ca8d-47dd-9ac4-ddfb78cd4cf1",
   "metadata": {},
   "outputs": [],
   "source": [
    "# step 2: Extract the two samples\n",
    "data1 = businesstravel['Current Year']\n",
    "data2 = businesstravel['Previous Year']"
   ]
  },
  {
   "cell_type": "code",
   "execution_count": 15,
   "id": "64582f5d-cb5e-439b-b71e-f9e290b216f1",
   "metadata": {},
   "outputs": [],
   "source": [
    "#calculate the differences between pairs\n",
    "difference = data1-data2"
   ]
  },
  {
   "cell_type": "code",
   "execution_count": 17,
   "id": "336777c7-e5ee-4a1a-adce-8afb91062581",
   "metadata": {},
   "outputs": [],
   "source": [
    "#perform paired t-test\n",
    "t_statistic, p_value= stats.ttest_rel(data1,data2)\n",
    "p_value_new = p_value/2     #divide by 2 as test is one tailed and value is given for the two tailed\n"
   ]
  },
  {
   "cell_type": "code",
   "execution_count": 19,
   "id": "16f5ebab-fe4b-4848-aab4-08e6d7fbf65f",
   "metadata": {},
   "outputs": [
    {
     "name": "stdout",
     "output_type": "stream",
     "text": [
      "t-statistic: 2.0535763894820414\n",
      "p-value: 0.03228826131653952\n"
     ]
    }
   ],
   "source": [
    "#Print the t-statistic and p-value\n",
    "print(\"t-statistic:\",t_statistic)\n",
    "print(\"p-value:\",p_value_new)\n"
   ]
  },
  {
   "cell_type": "code",
   "execution_count": 21,
   "id": "39098cda-351e-49aa-9e9b-865eda3ef20a",
   "metadata": {},
   "outputs": [
    {
     "name": "stdout",
     "output_type": "stream",
     "text": [
      "Reject the null hypothesis.\n",
      "There is enough evidence to conclude that there is significant increase in mean domestic airfarefor business travel\n"
     ]
    }
   ],
   "source": [
    "#Set a significance level(alpha)\n",
    "alpha =0.05\n",
    "#interpret the results\n",
    "if p_value_new < alpha:\n",
    "    print(\"Reject the null hypothesis.\")\n",
    "    print(\"There is enough evidence to conclude that there is significant increase in mean domestic airfarefor business travel\")\n",
    "else:\n",
    "    print(\"Fail to reject the null hypothesis\")\n",
    "    print(\"there is not enough evidence to conclude that there is significant increase in mean domestic airfarefor business travel\")"
   ]
  },
  {
   "cell_type": "code",
   "execution_count": 23,
   "id": "3d5e6bcc-fb21-4a2b-b39b-756f2ebd0340",
   "metadata": {},
   "outputs": [
    {
     "name": "stdout",
     "output_type": "stream",
     "text": [
      "487.0 464.0\n"
     ]
    }
   ],
   "source": [
    "#b) mean for both years\n",
    "x1bar=data1.mean()\n",
    "x2bar=data2.mean()\n",
    "print(x1bar,x2bar)"
   ]
  },
  {
   "cell_type": "code",
   "execution_count": null,
   "id": "c2087633-f015-4a3d-a358-04f921bf4c30",
   "metadata": {},
   "outputs": [],
   "source": []
  }
 ],
 "metadata": {
  "kernelspec": {
   "display_name": "Python 3 (ipykernel)",
   "language": "python",
   "name": "python3"
  },
  "language_info": {
   "codemirror_mode": {
    "name": "ipython",
    "version": 3
   },
   "file_extension": ".py",
   "mimetype": "text/x-python",
   "name": "python",
   "nbconvert_exporter": "python",
   "pygments_lexer": "ipython3",
   "version": "3.12.4"
  }
 },
 "nbformat": 4,
 "nbformat_minor": 5
}
