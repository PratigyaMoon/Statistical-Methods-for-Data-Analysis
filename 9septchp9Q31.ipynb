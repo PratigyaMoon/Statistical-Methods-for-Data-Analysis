{
 "cells": [
  {
   "cell_type": "code",
   "execution_count": 9,
   "id": "b9254785-c072-4b32-a9c1-f35b22ec8d38",
   "metadata": {},
   "outputs": [],
   "source": [
    "# Question 31 page 444\n",
    "import pandas as pd\n",
    "import numpy as np\n",
    "import scipy.stats as stats\n",
    "from scipy.stats import t"
   ]
  },
  {
   "cell_type": "code",
   "execution_count": 11,
   "id": "4582da5a-4766-457f-860d-cb02517c9600",
   "metadata": {},
   "outputs": [
    {
     "name": "stdout",
     "output_type": "stream",
     "text": [
      "Ho: mu=9.5 v/s Ha: mu<>9.5\n"
     ]
    }
   ],
   "source": [
    "mu = 9.5\n",
    "print(\"Ho: mu=9.5 v/s Ha: mu<>9.5\")"
   ]
  },
  {
   "cell_type": "code",
   "execution_count": 3,
   "id": "23a053f4-e6b4-43cc-99f5-d2fc2e796a5f",
   "metadata": {},
   "outputs": [],
   "source": [
    "xbar = 10.05 \n",
    "std = 1.5\n",
    "n = 36\n",
    "standard_error=std/np.sqrt(n)"
   ]
  },
  {
   "cell_type": "code",
   "execution_count": 13,
   "id": "60ab3b60-e358-470a-9442-592842c761c1",
   "metadata": {},
   "outputs": [
    {
     "name": "stdout",
     "output_type": "stream",
     "text": [
      "T-statistic: 2.200\n",
      "Critical value (Upper tail) at alpha=0.05: 1.690\n",
      "P-value: 0.017\n",
      "Reject the null hypothesis. There is significant evidence that chocolate consumption is higher in Hershey.\n"
     ]
    }
   ],
   "source": [
    "# Given data\n",
    "national_mean = 9.5\n",
    "sample_mean = 10.05\n",
    "sample_std_dev = 1.5\n",
    "sample_size = 36\n",
    "alpha = 0.05\n",
    "# Calculate the t-statistic\n",
    "t_statistic = (sample_mean - national_mean) / (sample_std_dev / (sample_size ** 0.5))\n",
    "# Degrees of freedom\n",
    "df = sample_size - 1\n",
    "\n",
    "# Calculate the critical value for the upper tail\n",
    "t_critical_upper = stats.t.ppf(1 - alpha, df)\n",
    "\n",
    "# Calculate the p-value for a one-tailed test\n",
    "p_value = 1 - stats.t.cdf(t_statistic, df)\n",
    "\n",
    "# Print results\n",
    "print(f\"T-statistic: {t_statistic:.3f}\")\n",
    "print(f\"Critical value (Upper tail) at alpha={alpha}: {t_critical_upper:.3f}\")\n",
    "print(f\"P-value: {p_value:.3f}\")\n",
    "\n",
    "# Determine if we reject the null hypothesis\n",
    "if t_statistic > t_critical_upper:\n",
    "    print(\"Reject the null hypothesis. There is significant evidence that chocolate consumption is higher in Hershey.\")\n",
    "else:\n",
    "    print(\"Fail to reject the null hypothesis. There is not enough evidence to suggest that chocolate consumption is higher in Hershey.\")"
   ]
  },
  {
   "cell_type": "code",
   "execution_count": null,
   "id": "a1900fca-b3bc-485a-bd6a-a91d89dded51",
   "metadata": {},
   "outputs": [],
   "source": []
  }
 ],
 "metadata": {
  "kernelspec": {
   "display_name": "Python 3 (ipykernel)",
   "language": "python",
   "name": "python3"
  },
  "language_info": {
   "codemirror_mode": {
    "name": "ipython",
    "version": 3
   },
   "file_extension": ".py",
   "mimetype": "text/x-python",
   "name": "python",
   "nbconvert_exporter": "python",
   "pygments_lexer": "ipython3",
   "version": "3.12.4"
  }
 },
 "nbformat": 4,
 "nbformat_minor": 5
}
