{
 "cells": [
  {
   "cell_type": "code",
   "execution_count": 9,
   "id": "b9254785-c072-4b32-a9c1-f35b22ec8d38",
   "metadata": {},
   "outputs": [],
   "source": [
    "# Question 31 page 444\n",
    "import pandas as pd\n",
    "import numpy as np\n",
    "import scipy.stats as stats\n",
    "from scipy.stats import t"
   ]
  },
  {
   "cell_type": "code",
   "execution_count": 11,
   "id": "4582da5a-4766-457f-860d-cb02517c9600",
   "metadata": {},
   "outputs": [
    {
     "name": "stdout",
     "output_type": "stream",
     "text": [
      "Ho: mu=9.5 v/s Ha: mu<>9.5\n"
     ]
    }
   ],
   "source": [
    "mu = 9.5\n",
    "print(\"Ho: mu=9.5 v/s Ha: mu<>9.5\")"
   ]
  },
  {
   "cell_type": "code",
   "execution_count": 3,
   "id": "23a053f4-e6b4-43cc-99f5-d2fc2e796a5f",
   "metadata": {},
   "outputs": [],
   "source": [
    "xbar = 10.05 \n",
    "std = 1.5\n",
    "n = 36\n",
    "standard_error=std/np.sqrt(n)"
   ]
  },
  {
   "cell_type": "code",
   "execution_count": null,
   "id": "60ab3b60-e358-470a-9442-592842c761c1",
   "metadata": {},
   "outputs": [],
   "source": [
    "# Given data\n",
    "national_mean = 9.5\n",
    "sample_mean = 10.05\n",
    "sample_std_dev = 1.5\n",
    "sample_size = 36\n",
    "alpha = 0.05\n",
    "# Calculate the t-statistic\n",
    "t_statistic = (sample_mean - national_mean) / (sample_std_dev / (sample_size ** 0.5))\n",
    "# Degrees of freedom\n",
    "df = sample_size - 1\n",
    "\n",
    "# Calculate the critical value for the upper tail\n",
    "t_critical_upper = stats.t.ppf(1 - alpha, df)\n",
    "\n",
    "# Calculate the p-value for a one-tailed test\n",
    "p_value = 1 - stats.t.cdf(t_statistic, df)"
   ]
  },
  {
   "cell_type": "code",
   "execution_count": 7,
   "id": "5ad9b47a-5603-4498-afe1-d55441971f79",
   "metadata": {},
   "outputs": [
    {
     "ename": "NameError",
     "evalue": "name 'mu' is not defined",
     "output_type": "error",
     "traceback": [
      "\u001b[1;31m---------------------------------------------------------------------------\u001b[0m",
      "\u001b[1;31mNameError\u001b[0m                                 Traceback (most recent call last)",
      "Cell \u001b[1;32mIn[7], line 1\u001b[0m\n\u001b[1;32m----> 1\u001b[0m tobs \u001b[38;5;241m=\u001b[39m(xbar\u001b[38;5;241m-\u001b[39mmu) \u001b[38;5;241m/\u001b[39m standard_error\n\u001b[0;32m      2\u001b[0m \u001b[38;5;28mprint\u001b[39m(\u001b[38;5;124m\"\u001b[39m\u001b[38;5;124mtobs:\u001b[39m\u001b[38;5;124m\"\u001b[39m, tobs)\n\u001b[0;32m      3\u001b[0m degrees_of_freedom \u001b[38;5;241m=\u001b[39m n\u001b[38;5;241m-\u001b[39m\u001b[38;5;241m1\u001b[39m\n",
      "\u001b[1;31mNameError\u001b[0m: name 'mu' is not defined"
     ]
    }
   ],
   "source": [
    "tobs =(xbar-mu) / standard_error\n",
    "print(\"tobs:\", tobs)\n",
    "degrees_of_freedom = n-1\n",
    "significance_level=0.05\n",
    "tcri=t.ppf(1-significance_level,degrees_of_freedom)\n",
    "print(\"tcri:\",tcri)"
   ]
  },
  {
   "cell_type": "code",
   "execution_count": null,
   "id": "a1900fca-b3bc-485a-bd6a-a91d89dded51",
   "metadata": {},
   "outputs": [],
   "source": []
  }
 ],
 "metadata": {
  "kernelspec": {
   "display_name": "Python 3 (ipykernel)",
   "language": "python",
   "name": "python3"
  },
  "language_info": {
   "codemirror_mode": {
    "name": "ipython",
    "version": 3
   },
   "file_extension": ".py",
   "mimetype": "text/x-python",
   "name": "python",
   "nbconvert_exporter": "python",
   "pygments_lexer": "ipython3",
   "version": "3.12.4"
  }
 },
 "nbformat": 4,
 "nbformat_minor": 5
}
