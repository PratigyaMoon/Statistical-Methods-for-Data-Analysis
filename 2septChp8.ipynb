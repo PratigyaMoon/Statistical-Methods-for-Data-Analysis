{
 "cells": [
  {
   "cell_type": "code",
   "execution_count": 1,
   "id": "1e566047-07f6-45b7-a010-c4d876e9e8fa",
   "metadata": {},
   "outputs": [],
   "source": [
    "#Question 17 page-388\n",
    "import numpy as np\n",
    "import pandas as pd\n",
    "import scipy.stats as scipy\n",
    "from scipy.stats import t"
   ]
  },
  {
   "cell_type": "code",
   "execution_count": 3,
   "id": "4837941a-0061-4395-8515-fd21729811f5",
   "metadata": {},
   "outputs": [
    {
     "data": {
      "text/html": [
       "<div>\n",
       "<style scoped>\n",
       "    .dataframe tbody tr th:only-of-type {\n",
       "        vertical-align: middle;\n",
       "    }\n",
       "\n",
       "    .dataframe tbody tr th {\n",
       "        vertical-align: top;\n",
       "    }\n",
       "\n",
       "    .dataframe thead th {\n",
       "        text-align: right;\n",
       "    }\n",
       "</style>\n",
       "<table border=\"1\" class=\"dataframe\">\n",
       "  <thead>\n",
       "    <tr style=\"text-align: right;\">\n",
       "      <th></th>\n",
       "      <th>Rating</th>\n",
       "    </tr>\n",
       "  </thead>\n",
       "  <tbody>\n",
       "    <tr>\n",
       "      <th>0</th>\n",
       "      <td>6</td>\n",
       "    </tr>\n",
       "    <tr>\n",
       "      <th>1</th>\n",
       "      <td>4</td>\n",
       "    </tr>\n",
       "    <tr>\n",
       "      <th>2</th>\n",
       "      <td>6</td>\n",
       "    </tr>\n",
       "    <tr>\n",
       "      <th>3</th>\n",
       "      <td>8</td>\n",
       "    </tr>\n",
       "    <tr>\n",
       "      <th>4</th>\n",
       "      <td>7</td>\n",
       "    </tr>\n",
       "    <tr>\n",
       "      <th>5</th>\n",
       "      <td>7</td>\n",
       "    </tr>\n",
       "    <tr>\n",
       "      <th>6</th>\n",
       "      <td>6</td>\n",
       "    </tr>\n",
       "    <tr>\n",
       "      <th>7</th>\n",
       "      <td>3</td>\n",
       "    </tr>\n",
       "    <tr>\n",
       "      <th>8</th>\n",
       "      <td>3</td>\n",
       "    </tr>\n",
       "    <tr>\n",
       "      <th>9</th>\n",
       "      <td>8</td>\n",
       "    </tr>\n",
       "    <tr>\n",
       "      <th>10</th>\n",
       "      <td>10</td>\n",
       "    </tr>\n",
       "    <tr>\n",
       "      <th>11</th>\n",
       "      <td>4</td>\n",
       "    </tr>\n",
       "    <tr>\n",
       "      <th>12</th>\n",
       "      <td>8</td>\n",
       "    </tr>\n",
       "    <tr>\n",
       "      <th>13</th>\n",
       "      <td>7</td>\n",
       "    </tr>\n",
       "    <tr>\n",
       "      <th>14</th>\n",
       "      <td>8</td>\n",
       "    </tr>\n",
       "    <tr>\n",
       "      <th>15</th>\n",
       "      <td>7</td>\n",
       "    </tr>\n",
       "    <tr>\n",
       "      <th>16</th>\n",
       "      <td>5</td>\n",
       "    </tr>\n",
       "    <tr>\n",
       "      <th>17</th>\n",
       "      <td>9</td>\n",
       "    </tr>\n",
       "    <tr>\n",
       "      <th>18</th>\n",
       "      <td>5</td>\n",
       "    </tr>\n",
       "    <tr>\n",
       "      <th>19</th>\n",
       "      <td>8</td>\n",
       "    </tr>\n",
       "    <tr>\n",
       "      <th>20</th>\n",
       "      <td>4</td>\n",
       "    </tr>\n",
       "    <tr>\n",
       "      <th>21</th>\n",
       "      <td>3</td>\n",
       "    </tr>\n",
       "    <tr>\n",
       "      <th>22</th>\n",
       "      <td>8</td>\n",
       "    </tr>\n",
       "    <tr>\n",
       "      <th>23</th>\n",
       "      <td>5</td>\n",
       "    </tr>\n",
       "    <tr>\n",
       "      <th>24</th>\n",
       "      <td>5</td>\n",
       "    </tr>\n",
       "    <tr>\n",
       "      <th>25</th>\n",
       "      <td>4</td>\n",
       "    </tr>\n",
       "    <tr>\n",
       "      <th>26</th>\n",
       "      <td>4</td>\n",
       "    </tr>\n",
       "    <tr>\n",
       "      <th>27</th>\n",
       "      <td>4</td>\n",
       "    </tr>\n",
       "    <tr>\n",
       "      <th>28</th>\n",
       "      <td>8</td>\n",
       "    </tr>\n",
       "    <tr>\n",
       "      <th>29</th>\n",
       "      <td>4</td>\n",
       "    </tr>\n",
       "    <tr>\n",
       "      <th>30</th>\n",
       "      <td>5</td>\n",
       "    </tr>\n",
       "    <tr>\n",
       "      <th>31</th>\n",
       "      <td>6</td>\n",
       "    </tr>\n",
       "    <tr>\n",
       "      <th>32</th>\n",
       "      <td>2</td>\n",
       "    </tr>\n",
       "    <tr>\n",
       "      <th>33</th>\n",
       "      <td>5</td>\n",
       "    </tr>\n",
       "    <tr>\n",
       "      <th>34</th>\n",
       "      <td>9</td>\n",
       "    </tr>\n",
       "    <tr>\n",
       "      <th>35</th>\n",
       "      <td>9</td>\n",
       "    </tr>\n",
       "    <tr>\n",
       "      <th>36</th>\n",
       "      <td>8</td>\n",
       "    </tr>\n",
       "    <tr>\n",
       "      <th>37</th>\n",
       "      <td>4</td>\n",
       "    </tr>\n",
       "    <tr>\n",
       "      <th>38</th>\n",
       "      <td>8</td>\n",
       "    </tr>\n",
       "    <tr>\n",
       "      <th>39</th>\n",
       "      <td>9</td>\n",
       "    </tr>\n",
       "    <tr>\n",
       "      <th>40</th>\n",
       "      <td>9</td>\n",
       "    </tr>\n",
       "    <tr>\n",
       "      <th>41</th>\n",
       "      <td>5</td>\n",
       "    </tr>\n",
       "    <tr>\n",
       "      <th>42</th>\n",
       "      <td>9</td>\n",
       "    </tr>\n",
       "    <tr>\n",
       "      <th>43</th>\n",
       "      <td>7</td>\n",
       "    </tr>\n",
       "    <tr>\n",
       "      <th>44</th>\n",
       "      <td>8</td>\n",
       "    </tr>\n",
       "    <tr>\n",
       "      <th>45</th>\n",
       "      <td>3</td>\n",
       "    </tr>\n",
       "    <tr>\n",
       "      <th>46</th>\n",
       "      <td>10</td>\n",
       "    </tr>\n",
       "    <tr>\n",
       "      <th>47</th>\n",
       "      <td>8</td>\n",
       "    </tr>\n",
       "    <tr>\n",
       "      <th>48</th>\n",
       "      <td>9</td>\n",
       "    </tr>\n",
       "    <tr>\n",
       "      <th>49</th>\n",
       "      <td>6</td>\n",
       "    </tr>\n",
       "  </tbody>\n",
       "</table>\n",
       "</div>"
      ],
      "text/plain": [
       "    Rating\n",
       "0        6\n",
       "1        4\n",
       "2        6\n",
       "3        8\n",
       "4        7\n",
       "5        7\n",
       "6        6\n",
       "7        3\n",
       "8        3\n",
       "9        8\n",
       "10      10\n",
       "11       4\n",
       "12       8\n",
       "13       7\n",
       "14       8\n",
       "15       7\n",
       "16       5\n",
       "17       9\n",
       "18       5\n",
       "19       8\n",
       "20       4\n",
       "21       3\n",
       "22       8\n",
       "23       5\n",
       "24       5\n",
       "25       4\n",
       "26       4\n",
       "27       4\n",
       "28       8\n",
       "29       4\n",
       "30       5\n",
       "31       6\n",
       "32       2\n",
       "33       5\n",
       "34       9\n",
       "35       9\n",
       "36       8\n",
       "37       4\n",
       "38       8\n",
       "39       9\n",
       "40       9\n",
       "41       5\n",
       "42       9\n",
       "43       7\n",
       "44       8\n",
       "45       3\n",
       "46      10\n",
       "47       8\n",
       "48       9\n",
       "49       6"
      ]
     },
     "execution_count": 3,
     "metadata": {},
     "output_type": "execute_result"
    }
   ],
   "source": [
    "df=pd.read_csv(\"C:/Users/asus/Desktop/SMDA solved/PythonStatistics - SMDA//miami.csv\")\n",
    "df"
   ]
  },
  {
   "cell_type": "code",
   "execution_count": 7,
   "id": "12b0e34d-b2f9-434d-94cd-2e937fad8de2",
   "metadata": {},
   "outputs": [
    {
     "data": {
      "text/plain": [
       "Rating    6.34\n",
       "dtype: float64"
      ]
     },
     "execution_count": 7,
     "metadata": {},
     "output_type": "execute_result"
    }
   ],
   "source": [
    "df.mean()"
   ]
  },
  {
   "cell_type": "code",
   "execution_count": 9,
   "id": "4a105f30-62a7-4d94-babf-e68ee63df599",
   "metadata": {},
   "outputs": [
    {
     "data": {
      "text/plain": [
       "Rating    2.162859\n",
       "dtype: float64"
      ]
     },
     "execution_count": 9,
     "metadata": {},
     "output_type": "execute_result"
    }
   ],
   "source": [
    "df.std()"
   ]
  },
  {
   "cell_type": "code",
   "execution_count": 11,
   "id": "bbda3902-e66f-4711-974f-024923558bb3",
   "metadata": {},
   "outputs": [],
   "source": [
    "n=50"
   ]
  },
  {
   "cell_type": "code",
   "execution_count": 13,
   "id": "cd763839-f902-43cc-81d7-5e18307752e9",
   "metadata": {},
   "outputs": [
    {
     "data": {
      "text/plain": [
       "Rating    0.305874\n",
       "dtype: float64"
      ]
     },
     "execution_count": 13,
     "metadata": {},
     "output_type": "execute_result"
    }
   ],
   "source": [
    "standard_error=df.std()/(n**0.5)\n",
    "standard_error"
   ]
  },
  {
   "cell_type": "code",
   "execution_count": 15,
   "id": "bb5ecc7b-09f5-458c-85bf-4cad834e1622",
   "metadata": {},
   "outputs": [
    {
     "data": {
      "text/plain": [
       "2.0095752371292397"
      ]
     },
     "execution_count": 15,
     "metadata": {},
     "output_type": "execute_result"
    }
   ],
   "source": [
    "confidence_level=0.95\n",
    "degree_freedom=n-1\n",
    "degree_freedom\n",
    "tcri=t.ppf((1+confidence_level)/2,degree_freedom)\n",
    "tcri"
   ]
  },
  {
   "cell_type": "code",
   "execution_count": 17,
   "id": "e4a0e66e-85fd-4707-95fc-0e8cee1ab3ab",
   "metadata": {},
   "outputs": [
    {
     "data": {
      "text/plain": [
       "Rating    0.614678\n",
       "dtype: float64"
      ]
     },
     "execution_count": 17,
     "metadata": {},
     "output_type": "execute_result"
    }
   ],
   "source": [
    "margin_error=standard_error*tcri\n",
    "margin_error"
   ]
  },
  {
   "cell_type": "code",
   "execution_count": 19,
   "id": "630a05a7-d8d3-4287-8f0a-ae5db5ab20f7",
   "metadata": {},
   "outputs": [
    {
     "data": {
      "text/plain": [
       "array([[5.72532226],\n",
       "       [6.95467774]])"
      ]
     },
     "execution_count": 19,
     "metadata": {},
     "output_type": "execute_result"
    }
   ],
   "source": [
    "lower_bound=df.mean()-margin_error\n",
    "upper_bound=df.mean()+margin_error\n",
    "confidence_interval=np.array([lower_bound,upper_bound])\n",
    "confidence_interval"
   ]
  },
  {
   "cell_type": "code",
   "execution_count": 21,
   "id": "f396f124-81f7-4332-8152-014904d381cf",
   "metadata": {},
   "outputs": [],
   "source": [
    "# Question 20 page 389\n",
    "import numpy as np\n",
    "import pandas as pd\n",
    "import scipy.stats as scipy\n",
    "from scipy.stats import t"
   ]
  },
  {
   "cell_type": "code",
   "execution_count": 23,
   "id": "907c8a3d-a681-4ce0-97cf-f82d9774899b",
   "metadata": {},
   "outputs": [
    {
     "data": {
      "text/html": [
       "<div>\n",
       "<style scoped>\n",
       "    .dataframe tbody tr th:only-of-type {\n",
       "        vertical-align: middle;\n",
       "    }\n",
       "\n",
       "    .dataframe tbody tr th {\n",
       "        vertical-align: top;\n",
       "    }\n",
       "\n",
       "    .dataframe thead th {\n",
       "        text-align: right;\n",
       "    }\n",
       "</style>\n",
       "<table border=\"1\" class=\"dataframe\">\n",
       "  <thead>\n",
       "    <tr style=\"text-align: right;\">\n",
       "      <th></th>\n",
       "      <th>Annual Premium</th>\n",
       "    </tr>\n",
       "  </thead>\n",
       "  <tbody>\n",
       "    <tr>\n",
       "      <th>0</th>\n",
       "      <td>1905</td>\n",
       "    </tr>\n",
       "    <tr>\n",
       "      <th>1</th>\n",
       "      <td>2725</td>\n",
       "    </tr>\n",
       "    <tr>\n",
       "      <th>2</th>\n",
       "      <td>2677</td>\n",
       "    </tr>\n",
       "    <tr>\n",
       "      <th>3</th>\n",
       "      <td>2600</td>\n",
       "    </tr>\n",
       "    <tr>\n",
       "      <th>4</th>\n",
       "      <td>2962</td>\n",
       "    </tr>\n",
       "    <tr>\n",
       "      <th>5</th>\n",
       "      <td>2184</td>\n",
       "    </tr>\n",
       "    <tr>\n",
       "      <th>6</th>\n",
       "      <td>2332</td>\n",
       "    </tr>\n",
       "    <tr>\n",
       "      <th>7</th>\n",
       "      <td>3112</td>\n",
       "    </tr>\n",
       "    <tr>\n",
       "      <th>8</th>\n",
       "      <td>2545</td>\n",
       "    </tr>\n",
       "    <tr>\n",
       "      <th>9</th>\n",
       "      <td>2525</td>\n",
       "    </tr>\n",
       "    <tr>\n",
       "      <th>10</th>\n",
       "      <td>2370</td>\n",
       "    </tr>\n",
       "    <tr>\n",
       "      <th>11</th>\n",
       "      <td>2545</td>\n",
       "    </tr>\n",
       "    <tr>\n",
       "      <th>12</th>\n",
       "      <td>2529</td>\n",
       "    </tr>\n",
       "    <tr>\n",
       "      <th>13</th>\n",
       "      <td>2442</td>\n",
       "    </tr>\n",
       "    <tr>\n",
       "      <th>14</th>\n",
       "      <td>2312</td>\n",
       "    </tr>\n",
       "    <tr>\n",
       "      <th>15</th>\n",
       "      <td>2981</td>\n",
       "    </tr>\n",
       "    <tr>\n",
       "      <th>16</th>\n",
       "      <td>2627</td>\n",
       "    </tr>\n",
       "    <tr>\n",
       "      <th>17</th>\n",
       "      <td>2857</td>\n",
       "    </tr>\n",
       "    <tr>\n",
       "      <th>18</th>\n",
       "      <td>2675</td>\n",
       "    </tr>\n",
       "    <tr>\n",
       "      <th>19</th>\n",
       "      <td>2115</td>\n",
       "    </tr>\n",
       "  </tbody>\n",
       "</table>\n",
       "</div>"
      ],
      "text/plain": [
       "    Annual Premium\n",
       "0             1905\n",
       "1             2725\n",
       "2             2677\n",
       "3             2600\n",
       "4             2962\n",
       "5             2184\n",
       "6             2332\n",
       "7             3112\n",
       "8             2545\n",
       "9             2525\n",
       "10            2370\n",
       "11            2545\n",
       "12            2529\n",
       "13            2442\n",
       "14            2312\n",
       "15            2981\n",
       "16            2627\n",
       "17            2857\n",
       "18            2675\n",
       "19            2115"
      ]
     },
     "execution_count": 23,
     "metadata": {},
     "output_type": "execute_result"
    }
   ],
   "source": [
    "df=pd.read_csv(\"C:/Users/asus/Desktop/SMDA solved/PythonStatistics - SMDA/autoinsurance.csv\")\n",
    "df"
   ]
  },
  {
   "cell_type": "code",
   "execution_count": 25,
   "id": "65d51627-465c-4e38-bd8d-1f7a4f33e03f",
   "metadata": {},
   "outputs": [
    {
     "data": {
      "text/plain": [
       "Annual Premium    2551.0\n",
       "dtype: float64"
      ]
     },
     "execution_count": 25,
     "metadata": {},
     "output_type": "execute_result"
    }
   ],
   "source": [
    "df.mean()"
   ]
  },
  {
   "cell_type": "code",
   "execution_count": 27,
   "id": "e0546d22-af6e-48cb-85db-d1e1ab31758c",
   "metadata": {},
   "outputs": [
    {
     "data": {
      "text/plain": [
       "Annual Premium    301.307676\n",
       "dtype: float64"
      ]
     },
     "execution_count": 27,
     "metadata": {},
     "output_type": "execute_result"
    }
   ],
   "source": [
    "df.std()"
   ]
  },
  {
   "cell_type": "code",
   "execution_count": 31,
   "id": "887e8ac3-4f26-45d9-9b81-87dacdccabb4",
   "metadata": {},
   "outputs": [],
   "source": [
    "n=20"
   ]
  },
  {
   "cell_type": "code",
   "execution_count": 33,
   "id": "d40f0892-c809-44b4-99d6-1de6f893b807",
   "metadata": {},
   "outputs": [
    {
     "data": {
      "text/plain": [
       "Annual Premium    67.374445\n",
       "dtype: float64"
      ]
     },
     "execution_count": 33,
     "metadata": {},
     "output_type": "execute_result"
    }
   ],
   "source": [
    "standard_error=df.std()/(n**0.5)\n",
    "standard_error"
   ]
  },
  {
   "cell_type": "code",
   "execution_count": 35,
   "id": "2c9dff3b-a2ef-4d8b-ac3f-866c283c07f8",
   "metadata": {},
   "outputs": [
    {
     "data": {
      "text/plain": [
       "2.093024054408263"
      ]
     },
     "execution_count": 35,
     "metadata": {},
     "output_type": "execute_result"
    }
   ],
   "source": [
    "confidence_level=0.95\n",
    "degree_freedom=n-1\n",
    "degree_freedom\n",
    "tcri=t.ppf((1+confidence_level)/2,degree_freedom)\n",
    "tcri"
   ]
  },
  {
   "cell_type": "code",
   "execution_count": 37,
   "id": "334d9e33-7db6-4944-8fbf-1a4868e384cf",
   "metadata": {},
   "outputs": [
    {
     "data": {
      "text/plain": [
       "Annual Premium    141.016333\n",
       "dtype: float64"
      ]
     },
     "execution_count": 37,
     "metadata": {},
     "output_type": "execute_result"
    }
   ],
   "source": [
    "margin_error=standard_error*tcri\n",
    "margin_error"
   ]
  },
  {
   "cell_type": "code",
   "execution_count": 39,
   "id": "be1be96f-29fe-4c8e-9f06-deaa33264a3a",
   "metadata": {},
   "outputs": [
    {
     "data": {
      "text/plain": [
       "array([[2409.98366673],\n",
       "       [2692.01633327]])"
      ]
     },
     "execution_count": 39,
     "metadata": {},
     "output_type": "execute_result"
    }
   ],
   "source": [
    "lower_bound=df.mean()-margin_error\n",
    "upper_bound=df.mean()+margin_error\n",
    "confidence_interval=np.array([lower_bound,upper_bound])\n",
    "confidence_interval"
   ]
  },
  {
   "cell_type": "code",
   "execution_count": 41,
   "id": "3b19dff0-e18c-4145-88a3-f66b048f77af",
   "metadata": {},
   "outputs": [],
   "source": [
    "import numpy as np\n",
    "import pandas as pd\n",
    "import scipy.stats as scipy\n",
    "from scipy.stats import t\n",
    "from scipy.stats import norm"
   ]
  },
  {
   "cell_type": "code",
   "execution_count": 43,
   "id": "4602d415-41c0-4ccf-a493-e362308bda1b",
   "metadata": {},
   "outputs": [
    {
     "data": {
      "text/plain": [
       "1.959963984540054"
      ]
     },
     "execution_count": 43,
     "metadata": {},
     "output_type": "execute_result"
    }
   ],
   "source": [
    "confidence_level=0.95\n",
    "zcri=norm.ppf((1+confidence_level)/2)\n",
    "zcri"
   ]
  },
  {
   "cell_type": "code",
   "execution_count": 45,
   "id": "10eba90b-838d-49a9-9b74-783d8e343b5d",
   "metadata": {},
   "outputs": [
    {
     "data": {
      "text/plain": [
       "80.0"
      ]
     },
     "execution_count": 45,
     "metadata": {},
     "output_type": "execute_result"
    }
   ],
   "source": [
    "n=(zcri**2*6.84**2)/(1.5**2)\n",
    "n=np.round(n)\n",
    "n"
   ]
  },
  {
   "cell_type": "code",
   "execution_count": 47,
   "id": "11fe08e4-8258-4c6f-be82-ab765eb80899",
   "metadata": {},
   "outputs": [],
   "source": [
    "import numpy as np\n",
    "import pandas as pd\n",
    "import scipy.stats as scipy\n",
    "from scipy.stats import t\n",
    "from scipy.stats import norm"
   ]
  },
  {
   "cell_type": "code",
   "execution_count": 49,
   "id": "86123626-3b31-4571-a258-ab13bbf07d6e",
   "metadata": {},
   "outputs": [
    {
     "data": {
      "text/plain": [
       "1.6448536269514722"
      ]
     },
     "execution_count": 49,
     "metadata": {},
     "output_type": "execute_result"
    }
   ],
   "source": [
    "confidence_level=0.90\n",
    "zcri=norm.ppf((1+confidence_level)/2)\n",
    "zcri"
   ]
  },
  {
   "cell_type": "code",
   "execution_count": 51,
   "id": "edd72db0-7b6e-49b5-985f-9809d0899a71",
   "metadata": {},
   "outputs": [
    {
     "data": {
      "text/plain": [
       "188.0"
      ]
     },
     "execution_count": 51,
     "metadata": {},
     "output_type": "execute_result"
    }
   ],
   "source": [
    "n=(zcri**2*25**2)/(3**2)\n",
    "n=np.round(n)\n",
    "n"
   ]
  },
  {
   "cell_type": "code",
   "execution_count": 53,
   "id": "8590e593-e704-4964-bf37-ed93ee3a4268",
   "metadata": {},
   "outputs": [
    {
     "data": {
      "text/plain": [
       "1.959963984540054"
      ]
     },
     "execution_count": 53,
     "metadata": {},
     "output_type": "execute_result"
    }
   ],
   "source": [
    "confidence_level=0.95\n",
    "zcri=norm.ppf((1+confidence_level)/2)\n",
    "zcri"
   ]
  },
  {
   "cell_type": "code",
   "execution_count": 55,
   "id": "73f0d9b8-674b-40c7-87e1-1a9b0cc01ad3",
   "metadata": {},
   "outputs": [
    {
     "data": {
      "text/plain": [
       "267.0"
      ]
     },
     "execution_count": 55,
     "metadata": {},
     "output_type": "execute_result"
    }
   ],
   "source": [
    "n=(zcri**2*25**2)/(3**2)\n",
    "n=np.round(n)\n",
    "n"
   ]
  },
  {
   "cell_type": "code",
   "execution_count": 57,
   "id": "8080953f-753f-4dde-a716-55931751d9c8",
   "metadata": {},
   "outputs": [
    {
     "data": {
      "text/plain": [
       "2.5758293035489004"
      ]
     },
     "execution_count": 57,
     "metadata": {},
     "output_type": "execute_result"
    }
   ],
   "source": [
    "confidence_level=0.99\n",
    "zcri=norm.ppf((1+confidence_level)/2)\n",
    "zcri"
   ]
  },
  {
   "cell_type": "code",
   "execution_count": 59,
   "id": "9c264ba5-18d1-42de-8387-0a9452d6db33",
   "metadata": {},
   "outputs": [
    {
     "data": {
      "text/plain": [
       "461.0"
      ]
     },
     "execution_count": 59,
     "metadata": {},
     "output_type": "execute_result"
    }
   ],
   "source": [
    "n=(zcri**2*25**2)/(3**2)\n",
    "n=np.round(n)\n",
    "n"
   ]
  },
  {
   "cell_type": "code",
   "execution_count": 61,
   "id": "63d32703-1391-4d63-bd21-b9f64d3f3f94",
   "metadata": {},
   "outputs": [],
   "source": [
    "import numpy as np\n",
    "import pandas as pd\n",
    "import scipy.stats as scipy\n",
    "from scipy.stats import t\n",
    "from scipy.stats import norm"
   ]
  },
  {
   "cell_type": "code",
   "execution_count": 63,
   "id": "6514086b-14f7-45b8-a5e7-bcc7fbcbfa5c",
   "metadata": {},
   "outputs": [
    {
     "data": {
      "text/plain": [
       "0.23"
      ]
     },
     "execution_count": 63,
     "metadata": {},
     "output_type": "execute_result"
    }
   ],
   "source": [
    "x=46\n",
    "n=200\n",
    "pcap=x/n\n",
    "pcap"
   ]
  },
  {
   "cell_type": "code",
   "execution_count": 65,
   "id": "7ec7e316-484d-455a-9c9b-fed11935a9ee",
   "metadata": {},
   "outputs": [
    {
     "data": {
      "text/plain": [
       "0.02975735203273302"
      ]
     },
     "execution_count": 65,
     "metadata": {},
     "output_type": "execute_result"
    }
   ],
   "source": [
    "qcap=1-pcap\n",
    "standard_error=((pcap*qcap)/n)**0.5\n",
    "standard_error"
   ]
  },
  {
   "cell_type": "code",
   "execution_count": 67,
   "id": "c3e7e919-ef52-4239-878c-f5895c8aeb6a",
   "metadata": {},
   "outputs": [
    {
     "data": {
      "text/plain": [
       "1.959963984540054"
      ]
     },
     "execution_count": 67,
     "metadata": {},
     "output_type": "execute_result"
    }
   ],
   "source": [
    "confidence_level=0.95\n",
    "zcri=norm.ppf((1+confidence_level)/2)\n",
    "zcri"
   ]
  },
  {
   "cell_type": "code",
   "execution_count": 69,
   "id": "fe99c622-a499-4cbf-99b4-1ee6de28dbb4",
   "metadata": {},
   "outputs": [
    {
     "data": {
      "text/plain": [
       "0.05832333825943648"
      ]
     },
     "execution_count": 69,
     "metadata": {},
     "output_type": "execute_result"
    }
   ],
   "source": [
    "moe=standard_error*zcri\n",
    "moe"
   ]
  },
  {
   "cell_type": "code",
   "execution_count": 71,
   "id": "448daefd-04cb-40bc-8e24-242a6e897d5a",
   "metadata": {},
   "outputs": [
    {
     "data": {
      "text/plain": [
       "array([0.17167666, 0.28832334])"
      ]
     },
     "execution_count": 71,
     "metadata": {},
     "output_type": "execute_result"
    }
   ],
   "source": [
    "lower_bound=pcap-moe\n",
    "upper_bound=pcap+moe\n",
    "confidence_interval=np.array([lower_bound,upper_bound])\n",
    "confidence_interval"
   ]
  },
  {
   "cell_type": "code",
   "execution_count": 73,
   "id": "c5060a87-8af1-4265-82e5-685ab35cb0d9",
   "metadata": {},
   "outputs": [],
   "source": [
    "#Question 38 page- 397\n",
    "import numpy as np\n",
    "import pandas as pd\n",
    "import scipy.stats as scipy\n",
    "from scipy.stats import t\n",
    "from scipy.stats import norm"
   ]
  },
  {
   "cell_type": "code",
   "execution_count": 85,
   "id": "f910ec94-cac2-4469-b44f-5e1beacb2130",
   "metadata": {},
   "outputs": [
    {
     "data": {
      "text/html": [
       "<div>\n",
       "<style scoped>\n",
       "    .dataframe tbody tr th:only-of-type {\n",
       "        vertical-align: middle;\n",
       "    }\n",
       "\n",
       "    .dataframe tbody tr th {\n",
       "        vertical-align: top;\n",
       "    }\n",
       "\n",
       "    .dataframe thead th {\n",
       "        text-align: right;\n",
       "    }\n",
       "</style>\n",
       "<table border=\"1\" class=\"dataframe\">\n",
       "  <thead>\n",
       "    <tr style=\"text-align: right;\">\n",
       "      <th></th>\n",
       "      <th>50000</th>\n",
       "    </tr>\n",
       "  </thead>\n",
       "  <tbody>\n",
       "    <tr>\n",
       "      <th>0</th>\n",
       "      <td>Yes</td>\n",
       "    </tr>\n",
       "    <tr>\n",
       "      <th>1</th>\n",
       "      <td>No</td>\n",
       "    </tr>\n",
       "    <tr>\n",
       "      <th>2</th>\n",
       "      <td>Yes</td>\n",
       "    </tr>\n",
       "    <tr>\n",
       "      <th>3</th>\n",
       "      <td>No</td>\n",
       "    </tr>\n",
       "    <tr>\n",
       "      <th>4</th>\n",
       "      <td>No</td>\n",
       "    </tr>\n",
       "    <tr>\n",
       "      <th>...</th>\n",
       "      <td>...</td>\n",
       "    </tr>\n",
       "    <tr>\n",
       "      <th>137</th>\n",
       "      <td>Yes</td>\n",
       "    </tr>\n",
       "    <tr>\n",
       "      <th>138</th>\n",
       "      <td>No</td>\n",
       "    </tr>\n",
       "    <tr>\n",
       "      <th>139</th>\n",
       "      <td>No</td>\n",
       "    </tr>\n",
       "    <tr>\n",
       "      <th>140</th>\n",
       "      <td>Yes</td>\n",
       "    </tr>\n",
       "    <tr>\n",
       "      <th>141</th>\n",
       "      <td>Yes</td>\n",
       "    </tr>\n",
       "  </tbody>\n",
       "</table>\n",
       "<p>142 rows × 1 columns</p>\n",
       "</div>"
      ],
      "text/plain": [
       "    50000\n",
       "0     Yes\n",
       "1      No\n",
       "2     Yes\n",
       "3      No\n",
       "4      No\n",
       "..    ...\n",
       "137   Yes\n",
       "138    No\n",
       "139    No\n",
       "140   Yes\n",
       "141   Yes\n",
       "\n",
       "[142 rows x 1 columns]"
      ]
     },
     "execution_count": 85,
     "metadata": {},
     "output_type": "execute_result"
    }
   ],
   "source": [
    "df=pd.read_csv(\"C:/Users/asus/Desktop/SMDA solved/PythonStatistics - SMDA/casualdining.csv\")\n",
    "df"
   ]
  },
  {
   "cell_type": "code",
   "execution_count": 87,
   "id": "2d78c1ab-380e-47f3-90c5-59710245ccbc",
   "metadata": {},
   "outputs": [
    {
     "data": {
      "text/html": [
       "<div>\n",
       "<style scoped>\n",
       "    .dataframe tbody tr th:only-of-type {\n",
       "        vertical-align: middle;\n",
       "    }\n",
       "\n",
       "    .dataframe tbody tr th {\n",
       "        vertical-align: top;\n",
       "    }\n",
       "\n",
       "    .dataframe thead th {\n",
       "        text-align: right;\n",
       "    }\n",
       "</style>\n",
       "<table border=\"1\" class=\"dataframe\">\n",
       "  <thead>\n",
       "    <tr style=\"text-align: right;\">\n",
       "      <th></th>\n",
       "      <th>50000</th>\n",
       "    </tr>\n",
       "  </thead>\n",
       "  <tbody>\n",
       "    <tr>\n",
       "      <th>0</th>\n",
       "      <td>Yes</td>\n",
       "    </tr>\n",
       "    <tr>\n",
       "      <th>1</th>\n",
       "      <td>No</td>\n",
       "    </tr>\n",
       "    <tr>\n",
       "      <th>2</th>\n",
       "      <td>Yes</td>\n",
       "    </tr>\n",
       "    <tr>\n",
       "      <th>3</th>\n",
       "      <td>No</td>\n",
       "    </tr>\n",
       "    <tr>\n",
       "      <th>4</th>\n",
       "      <td>No</td>\n",
       "    </tr>\n",
       "  </tbody>\n",
       "</table>\n",
       "</div>"
      ],
      "text/plain": [
       "  50000\n",
       "0   Yes\n",
       "1    No\n",
       "2   Yes\n",
       "3    No\n",
       "4    No"
      ]
     },
     "execution_count": 87,
     "metadata": {},
     "output_type": "execute_result"
    }
   ],
   "source": [
    "df.head()\n"
   ]
  },
  {
   "cell_type": "code",
   "execution_count": 89,
   "id": "8b861e63-c313-4a16-9455-b990fbdc78dd",
   "metadata": {},
   "outputs": [
    {
     "data": {
      "text/plain": [
       "50000\n",
       "No     81\n",
       "Yes    61\n",
       "Name: count, dtype: int64"
      ]
     },
     "execution_count": 89,
     "metadata": {},
     "output_type": "execute_result"
    }
   ],
   "source": [
    "obs=df['50000'].value_counts()\n",
    "obs"
   ]
  },
  {
   "cell_type": "code",
   "execution_count": 91,
   "id": "35b6826e-76fe-4068-a1f4-cd3fd157316a",
   "metadata": {},
   "outputs": [
    {
     "data": {
      "text/plain": [
       "0.5704225352112676"
      ]
     },
     "execution_count": 91,
     "metadata": {},
     "output_type": "execute_result"
    }
   ],
   "source": [
    "x=81\n",
    "n=142\n",
    "pcap=x/n\n",
    "pcap"
   ]
  },
  {
   "cell_type": "code",
   "execution_count": 93,
   "id": "0fd2775c-4eca-41c2-b8a6-201c95da2d8b",
   "metadata": {},
   "outputs": [
    {
     "data": {
      "text/plain": [
       "0.04154080520068493"
      ]
     },
     "execution_count": 93,
     "metadata": {},
     "output_type": "execute_result"
    }
   ],
   "source": [
    "qcap=1-pcap\n",
    "standard_error=((pcap*qcap)/n)**0.5\n",
    "standard_error"
   ]
  },
  {
   "cell_type": "code",
   "execution_count": 95,
   "id": "e8ee6897-7f46-4fed-994b-1b8466bb77bd",
   "metadata": {},
   "outputs": [
    {
     "data": {
      "text/plain": [
       "1.959963984540054"
      ]
     },
     "execution_count": 95,
     "metadata": {},
     "output_type": "execute_result"
    }
   ],
   "source": [
    "confidence_level=0.95\n",
    "zcri=norm.ppf((1+confidence_level)/2)\n",
    "zcri"
   ]
  },
  {
   "cell_type": "code",
   "execution_count": 97,
   "id": "b972d75f-a670-4b1b-bdfc-0d9557879d21",
   "metadata": {},
   "outputs": [
    {
     "data": {
      "text/plain": [
       "0.08141848208213663"
      ]
     },
     "execution_count": 97,
     "metadata": {},
     "output_type": "execute_result"
    }
   ],
   "source": [
    "moe=standard_error*zcri\n",
    "moe"
   ]
  },
  {
   "cell_type": "code",
   "execution_count": 99,
   "id": "25c1193e-2adc-4880-bad9-0e0fe54897c4",
   "metadata": {},
   "outputs": [
    {
     "data": {
      "text/plain": [
       "array([0.48900405, 0.65184102])"
      ]
     },
     "execution_count": 99,
     "metadata": {},
     "output_type": "execute_result"
    }
   ],
   "source": [
    "lower_bound=pcap-moe\n",
    "upper_bound=pcap+moe\n",
    "confidence_interval=np.array([lower_bound,upper_bound])\n",
    "confidence_interval"
   ]
  },
  {
   "cell_type": "code",
   "execution_count": null,
   "id": "1235b555-884f-464b-8a75-7990100cf396",
   "metadata": {},
   "outputs": [],
   "source": []
  }
 ],
 "metadata": {
  "kernelspec": {
   "display_name": "Python 3 (ipykernel)",
   "language": "python",
   "name": "python3"
  },
  "language_info": {
   "codemirror_mode": {
    "name": "ipython",
    "version": 3
   },
   "file_extension": ".py",
   "mimetype": "text/x-python",
   "name": "python",
   "nbconvert_exporter": "python",
   "pygments_lexer": "ipython3",
   "version": "3.12.4"
  }
 },
 "nbformat": 4,
 "nbformat_minor": 5
}
