{
 "cells": [
  {
   "cell_type": "code",
   "execution_count": 28,
   "id": "4d73b8fe-6235-4212-82bc-8f5571710979",
   "metadata": {},
   "outputs": [],
   "source": [
    "#Question13 page 495 Annual cost of college\n",
    "import pandas as pd\n",
    "import numpy as np\n",
    "import scipy.stats as stat\n",
    "from scipy.stats import t"
   ]
  },
  {
   "cell_type": "code",
   "execution_count": 29,
   "id": "67e07748-be79-4a2a-90f6-4863333c4331",
   "metadata": {},
   "outputs": [],
   "source": [
    "collegecosts1=pd.read_csv('C:/Users/asus/Desktop/SMDA solved/PythonStatistics - SMDA/collegecosts1.csv')\n",
    "collegecosts2=pd.read_csv('C:/Users/asus/Desktop/SMDA solved/PythonStatistics - SMDA/collegecosts2.csv')"
   ]
  },
  {
   "cell_type": "code",
   "execution_count": 30,
   "id": "f63e2121-8a5e-49e7-8a81-8d89c893b6e3",
   "metadata": {},
   "outputs": [
    {
     "data": {
      "text/html": [
       "<div>\n",
       "<style scoped>\n",
       "    .dataframe tbody tr th:only-of-type {\n",
       "        vertical-align: middle;\n",
       "    }\n",
       "\n",
       "    .dataframe tbody tr th {\n",
       "        vertical-align: top;\n",
       "    }\n",
       "\n",
       "    .dataframe thead th {\n",
       "        text-align: right;\n",
       "    }\n",
       "</style>\n",
       "<table border=\"1\" class=\"dataframe\">\n",
       "  <thead>\n",
       "    <tr style=\"text-align: right;\">\n",
       "      <th></th>\n",
       "      <th>Private</th>\n",
       "    </tr>\n",
       "  </thead>\n",
       "  <tbody>\n",
       "    <tr>\n",
       "      <th>0</th>\n",
       "      <td>52.8</td>\n",
       "    </tr>\n",
       "    <tr>\n",
       "      <th>1</th>\n",
       "      <td>43.2</td>\n",
       "    </tr>\n",
       "    <tr>\n",
       "      <th>2</th>\n",
       "      <td>45.0</td>\n",
       "    </tr>\n",
       "    <tr>\n",
       "      <th>3</th>\n",
       "      <td>33.3</td>\n",
       "    </tr>\n",
       "    <tr>\n",
       "      <th>4</th>\n",
       "      <td>44.0</td>\n",
       "    </tr>\n",
       "    <tr>\n",
       "      <th>5</th>\n",
       "      <td>30.6</td>\n",
       "    </tr>\n",
       "    <tr>\n",
       "      <th>6</th>\n",
       "      <td>45.8</td>\n",
       "    </tr>\n",
       "    <tr>\n",
       "      <th>7</th>\n",
       "      <td>37.8</td>\n",
       "    </tr>\n",
       "    <tr>\n",
       "      <th>8</th>\n",
       "      <td>50.5</td>\n",
       "    </tr>\n",
       "    <tr>\n",
       "      <th>9</th>\n",
       "      <td>42.0</td>\n",
       "    </tr>\n",
       "  </tbody>\n",
       "</table>\n",
       "</div>"
      ],
      "text/plain": [
       "   Private\n",
       "0     52.8\n",
       "1     43.2\n",
       "2     45.0\n",
       "3     33.3\n",
       "4     44.0\n",
       "5     30.6\n",
       "6     45.8\n",
       "7     37.8\n",
       "8     50.5\n",
       "9     42.0"
      ]
     },
     "execution_count": 30,
     "metadata": {},
     "output_type": "execute_result"
    }
   ],
   "source": [
    "collegecosts1"
   ]
  },
  {
   "cell_type": "code",
   "execution_count": 31,
   "id": "02873256-81c4-45da-8784-9eb18237f948",
   "metadata": {},
   "outputs": [
    {
     "data": {
      "text/html": [
       "<div>\n",
       "<style scoped>\n",
       "    .dataframe tbody tr th:only-of-type {\n",
       "        vertical-align: middle;\n",
       "    }\n",
       "\n",
       "    .dataframe tbody tr th {\n",
       "        vertical-align: top;\n",
       "    }\n",
       "\n",
       "    .dataframe thead th {\n",
       "        text-align: right;\n",
       "    }\n",
       "</style>\n",
       "<table border=\"1\" class=\"dataframe\">\n",
       "  <thead>\n",
       "    <tr style=\"text-align: right;\">\n",
       "      <th></th>\n",
       "      <th>Public</th>\n",
       "    </tr>\n",
       "  </thead>\n",
       "  <tbody>\n",
       "    <tr>\n",
       "      <th>0</th>\n",
       "      <td>20.3</td>\n",
       "    </tr>\n",
       "    <tr>\n",
       "      <th>1</th>\n",
       "      <td>22.0</td>\n",
       "    </tr>\n",
       "    <tr>\n",
       "      <th>2</th>\n",
       "      <td>28.2</td>\n",
       "    </tr>\n",
       "    <tr>\n",
       "      <th>3</th>\n",
       "      <td>15.6</td>\n",
       "    </tr>\n",
       "    <tr>\n",
       "      <th>4</th>\n",
       "      <td>24.1</td>\n",
       "    </tr>\n",
       "    <tr>\n",
       "      <th>5</th>\n",
       "      <td>28.5</td>\n",
       "    </tr>\n",
       "    <tr>\n",
       "      <th>6</th>\n",
       "      <td>22.8</td>\n",
       "    </tr>\n",
       "    <tr>\n",
       "      <th>7</th>\n",
       "      <td>25.8</td>\n",
       "    </tr>\n",
       "    <tr>\n",
       "      <th>8</th>\n",
       "      <td>18.5</td>\n",
       "    </tr>\n",
       "    <tr>\n",
       "      <th>9</th>\n",
       "      <td>25.6</td>\n",
       "    </tr>\n",
       "    <tr>\n",
       "      <th>10</th>\n",
       "      <td>14.4</td>\n",
       "    </tr>\n",
       "    <tr>\n",
       "      <th>11</th>\n",
       "      <td>21.8</td>\n",
       "    </tr>\n",
       "  </tbody>\n",
       "</table>\n",
       "</div>"
      ],
      "text/plain": [
       "    Public\n",
       "0     20.3\n",
       "1     22.0\n",
       "2     28.2\n",
       "3     15.6\n",
       "4     24.1\n",
       "5     28.5\n",
       "6     22.8\n",
       "7     25.8\n",
       "8     18.5\n",
       "9     25.6\n",
       "10    14.4\n",
       "11    21.8"
      ]
     },
     "execution_count": 31,
     "metadata": {},
     "output_type": "execute_result"
    }
   ],
   "source": [
    "collegecosts2"
   ]
  },
  {
   "cell_type": "code",
   "execution_count": 32,
   "id": "1fceeed5-3015-48b8-8c0f-6c1377c4b3e4",
   "metadata": {},
   "outputs": [
    {
     "data": {
      "text/plain": [
       "(10, 12)"
      ]
     },
     "execution_count": 32,
     "metadata": {},
     "output_type": "execute_result"
    }
   ],
   "source": [
    "sample1=collegecosts1['Private']\n",
    "sample2=collegecosts2['Public']\n",
    "n1=len(sample1)\n",
    "n2=len(sample2)\n",
    "n1,n2"
   ]
  },
  {
   "cell_type": "code",
   "execution_count": 33,
   "id": "41e403da-97a7-4891-b58c-ec1ef4f53937",
   "metadata": {},
   "outputs": [
    {
     "name": "stdout",
     "output_type": "stream",
     "text": [
      "xbar_private=: 42.5\n",
      "sd_private=: 6.98\n",
      "xbar_public=: 22.3\n",
      "sd_public=: 4.53\n"
     ]
    }
   ],
   "source": [
    "# a) calculate sample mean, sample sd\n",
    "x1bar=sample1.mean()\n",
    "x2bar=sample2.mean()\n",
    "s1=np.round(sample1.std(),decimals=2)\n",
    "s2=np.round(sample2.std(),decimals=2)\n",
    "print(\"xbar_private=:\",x1bar)\n",
    "print(\"sd_private=:\",s1)\n",
    "print(\"xbar_public=:\",x2bar)\n",
    "print(\"sd_public=:\",s2)"
   ]
  },
  {
   "cell_type": "code",
   "execution_count": 34,
   "id": "cb99031c-7aa8-4c6b-bf5d-d6d9d197c718",
   "metadata": {},
   "outputs": [
    {
     "data": {
      "text/plain": [
       "20.2"
      ]
     },
     "execution_count": 34,
     "metadata": {},
     "output_type": "execute_result"
    }
   ],
   "source": [
    "# b) point estimate\n",
    "PE = x1bar-x2bar\n",
    "PE"
   ]
  },
  {
   "cell_type": "code",
   "execution_count": 35,
   "id": "0f185dc2-6dd5-4620-a948-d40ef001dbcc",
   "metadata": {},
   "outputs": [
    {
     "data": {
      "text/plain": [
       "2.467513677773641"
      ]
     },
     "execution_count": 35,
     "metadata": {},
     "output_type": "execute_result"
    }
   ],
   "source": [
    "#calculate standard error\n",
    "sp2=((n1-1)*s1**2+(n2-1)*s2**2)/(n1+n2-2)\n",
    "std_error=np.sqrt(sp2*(1/n1+1/n2))\n",
    "std_error"
   ]
  },
  {
   "cell_type": "code",
   "execution_count": 49,
   "id": "7056674a-b77a-4996-90e2-da7ff06c5dea",
   "metadata": {},
   "outputs": [
    {
     "name": "stdout",
     "output_type": "stream",
     "text": [
      "2.0859634472658364\n",
      "MOE=; 5.147143337464306\n",
      "lower_bound=: 15.0529\n",
      "upper_bound=: 25.3471\n"
     ]
    }
   ],
   "source": [
    "#calculate MOE, Lower limit, upper limit\n",
    "alpha=0.05   # specify significance level\n",
    "dof=n1+n2-2\n",
    "tcri=t.ppf(1-alpha/2,dof)\n",
    "print(tcri)\n",
    "MOE=std_error*tcri\n",
    "print(\"MOE=;\", MOE)\n",
    "lower_bound=np.round((PE-MOE), decimals=4)\n",
    "upper_bound=np.round((PE+MOE),decimals=4)\n",
    "print(\"lower_bound=:\", lower_bound)\n",
    "print(\"upper_bound=:\", upper_bound)"
   ]
  },
  {
   "cell_type": "code",
   "execution_count": null,
   "id": "b7f55ffc-19ec-4fe5-abb4-0637dc2d8847",
   "metadata": {},
   "outputs": [],
   "source": []
  }
 ],
 "metadata": {
  "kernelspec": {
   "display_name": "Python 3 (ipykernel)",
   "language": "python",
   "name": "python3"
  },
  "language_info": {
   "codemirror_mode": {
    "name": "ipython",
    "version": 3
   },
   "file_extension": ".py",
   "mimetype": "text/x-python",
   "name": "python",
   "nbconvert_exporter": "python",
   "pygments_lexer": "ipython3",
   "version": "3.12.4"
  }
 },
 "nbformat": 4,
 "nbformat_minor": 5
}
