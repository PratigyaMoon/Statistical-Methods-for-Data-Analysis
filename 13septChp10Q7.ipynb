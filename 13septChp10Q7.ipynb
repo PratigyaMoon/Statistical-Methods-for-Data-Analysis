{
 "cells": [
  {
   "cell_type": "code",
   "execution_count": 3,
   "id": "cb8f41a2-de5e-4f18-9fcc-0c1922381c51",
   "metadata": {},
   "outputs": [],
   "source": [
    "#Question 7 page 488 Supermarket customer satisfaction\n",
    "import pandas as pd\n",
    "import numpy as np\n",
    "import scipy.stats as stats\n",
    "from scipy.stats import norm\n",
    "from scipy.stats import t\n",
    "#Given\n",
    "mean1 = 86\n",
    "mean2 = 85\n",
    "n1 = 250\n",
    "n2 = 300\n",
    "sigma1 = 12\n",
    "sigma2 = 12"
   ]
  },
  {
   "cell_type": "code",
   "execution_count": 5,
   "id": "7cf9f8df-0b2b-4646-94f6-92b424e54f08",
   "metadata": {},
   "outputs": [
    {
     "data": {
      "text/plain": [
       "1"
      ]
     },
     "execution_count": 5,
     "metadata": {},
     "output_type": "execute_result"
    }
   ],
   "source": [
    "point_estimate = mean1-mean2\n",
    "point_estimate"
   ]
  },
  {
   "cell_type": "code",
   "execution_count": null,
   "id": "15c3655d-f3af-4fc6-ae61-d700d6f80109",
   "metadata": {},
   "outputs": [],
   "source": []
  }
 ],
 "metadata": {
  "kernelspec": {
   "display_name": "Python 3 (ipykernel)",
   "language": "python",
   "name": "python3"
  },
  "language_info": {
   "codemirror_mode": {
    "name": "ipython",
    "version": 3
   },
   "file_extension": ".py",
   "mimetype": "text/x-python",
   "name": "python",
   "nbconvert_exporter": "python",
   "pygments_lexer": "ipython3",
   "version": "3.12.4"
  }
 },
 "nbformat": 4,
 "nbformat_minor": 5
}
