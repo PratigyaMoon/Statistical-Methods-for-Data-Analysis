{
 "cells": [
  {
   "cell_type": "code",
   "execution_count": 1,
   "id": "cb8f41a2-de5e-4f18-9fcc-0c1922381c51",
   "metadata": {},
   "outputs": [],
   "source": [
    "#Question 7 page 488 Supermarket customer satisfaction\n",
    "import pandas as pd\n",
    "import numpy as np\n",
    "import scipy.stats as stats\n",
    "from scipy.stats import norm\n",
    "from scipy.stats import t\n",
    "#Given\n",
    "mean1 = 86\n",
    "mean2 = 85\n",
    "n1 = 250\n",
    "n2 = 300\n",
    "sigma1 = 12\n",
    "sigma2 = 12"
   ]
  },
  {
   "cell_type": "code",
   "execution_count": 3,
   "id": "15c3655d-f3af-4fc6-ae61-d700d6f80109",
   "metadata": {},
   "outputs": [
    {
     "data": {
      "text/plain": [
       "1"
      ]
     },
     "execution_count": 3,
     "metadata": {},
     "output_type": "execute_result"
    }
   ],
   "source": [
    "point_estimate = mean1-mean2\n",
    "point_estimate"
   ]
  },
  {
   "cell_type": "code",
   "execution_count": 5,
   "id": "fa152e3b-850c-4e15-8d3c-fda6e388d06f",
   "metadata": {},
   "outputs": [
    {
     "name": "stdout",
     "output_type": "stream",
     "text": [
      "Point estimate 1\n",
      "Standard error 1.0276186062932104\n"
     ]
    },
    {
     "data": {
      "text/plain": [
       "0.9731236802019037"
      ]
     },
     "execution_count": 5,
     "metadata": {},
     "output_type": "execute_result"
    }
   ],
   "source": [
    "Point_estimate = mean1-mean2\n",
    "print(\"Point estimate\", point_estimate)\n",
    "std_error = np.sqrt((sigma1**2/n1) + (sigma2**2/n2))\n",
    "print(\"Standard error\", std_error)\n",
    "zobs = point_estimate/std_error\n",
    "zobs"
   ]
  },
  {
   "cell_type": "code",
   "execution_count": 7,
   "id": "9e768cd8-e034-4bb3-883a-cfededbe4408",
   "metadata": {},
   "outputs": [
    {
     "name": "stdout",
     "output_type": "stream",
     "text": [
      "zobs= 0.9731236802019037\n",
      "zcri= -1.6448536269514729\n"
     ]
    }
   ],
   "source": [
    "#Calculating the critical value or p-value\n",
    "alpha = 0.05\n",
    "zcri = norm.ppf(alpha)\n",
    "print(\"zobs=\", zobs)\n",
    "print(\"zcri=\", zcri)"
   ]
  },
  {
   "cell_type": "code",
   "execution_count": 9,
   "id": "a78553c5-5175-44d6-a520-25a8b3827050",
   "metadata": {},
   "outputs": [
    {
     "name": "stdout",
     "output_type": "stream",
     "text": [
      "p_value= 0.33049183615926225\n"
     ]
    }
   ],
   "source": [
    "#Calculating p-value\n",
    "p_value = norm.cdf(-abs(zobs))*2\n",
    "print(\"p_value=\", p_value)"
   ]
  },
  {
   "cell_type": "code",
   "execution_count": 11,
   "id": "0fbeea47-2ed5-4cc3-ad24-9c621b266fcd",
   "metadata": {},
   "outputs": [
    {
     "name": "stdout",
     "output_type": "stream",
     "text": [
      "Fail to reject the null hypothesis (zobs = 0.97, p-value = 0.3305)\n"
     ]
    }
   ],
   "source": [
    "#Make the decision on critical value\n",
    "if abs(zobs) > abs(zcri):\n",
    "    print(f\"Reject the null hypothesis (zobs = {zobs:.2f}, p-value = {p_value:.4f})\")\n",
    "else:\n",
    "    print(f\"Fail to reject the null hypothesis (zobs = {zobs:.2f}, p-value = {p_value:.4f})\")"
   ]
  },
  {
   "cell_type": "code",
   "execution_count": null,
   "id": "2792023f-8224-4cfb-bf36-94e57417b978",
   "metadata": {},
   "outputs": [],
   "source": []
  }
 ],
 "metadata": {
  "kernelspec": {
   "display_name": "Python 3 (ipykernel)",
   "language": "python",
   "name": "python3"
  },
  "language_info": {
   "codemirror_mode": {
    "name": "ipython",
    "version": 3
   },
   "file_extension": ".py",
   "mimetype": "text/x-python",
   "name": "python",
   "nbconvert_exporter": "python",
   "pygments_lexer": "ipython3",
   "version": "3.12.4"
  }
 },
 "nbformat": 4,
 "nbformat_minor": 5
}
