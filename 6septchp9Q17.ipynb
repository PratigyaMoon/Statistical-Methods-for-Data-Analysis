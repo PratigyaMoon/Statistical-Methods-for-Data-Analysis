{
 "cells": [
  {
   "cell_type": "code",
   "execution_count": 2,
   "id": "3f76d48f-6f04-4b52-ab30-55938fb8ad59",
   "metadata": {},
   "outputs": [],
   "source": [
    "import pandas as pd\n",
    "import numpy as np\n",
    "import scipy.stats as stat\n",
    "from scipy.stats import norm"
   ]
  },
  {
   "cell_type": "code",
   "execution_count": 4,
   "id": "82498db8-1ccb-4c61-b3b6-0932d734b416",
   "metadata": {},
   "outputs": [
    {
     "name": "stdout",
     "output_type": "stream",
     "text": [
      "Ho:mu=128 v/s Ha:mu<>128\n"
     ]
    }
   ],
   "source": [
    "#define hypothesis Q17 pg437 two tailed test\n",
    "print (\"Ho:mu=128 v/s Ha:mu<>128\")"
   ]
  },
  {
   "cell_type": "code",
   "execution_count": 6,
   "id": "92665619-3233-4473-bb85-2ffe01274885",
   "metadata": {},
   "outputs": [],
   "source": [
    "#Data\n",
    "xbar =118.6\n",
    "sigma=33.17\n",
    "n=30\n",
    "mu=128\n",
    "significance_level=0.05"
   ]
  },
  {
   "cell_type": "code",
   "execution_count": 8,
   "id": "aa558662-7233-4606-8d33-35cdb31bc124",
   "metadata": {},
   "outputs": [
    {
     "name": "stdout",
     "output_type": "stream",
     "text": [
      "6.055985744148787\n",
      "zobs: -1.552183310385458\n"
     ]
    }
   ],
   "source": [
    "#calculate standard error and zobs\n",
    "std_error=sigma/np.sqrt(n)\n",
    "print(std_error)\n",
    "zobs=(xbar-mu)/std_error\n",
    "print(\"zobs:\",zobs)"
   ]
  },
  {
   "cell_type": "code",
   "execution_count": 10,
   "id": "5309976d-2f03-4ea3-a699-eafe933c3294",
   "metadata": {},
   "outputs": [
    {
     "name": "stdout",
     "output_type": "stream",
     "text": [
      "zcriL: -1.9599639845400545\n",
      "zcriR: 1.959963984540054\n"
     ]
    }
   ],
   "source": [
    "#calculate critical value\n",
    "zcriL=norm.ppf(significance_level/2)\n",
    "zcriR=norm.ppf(1-significance_level/2)\n",
    "print(\"zcriL:\",zcriL)\n",
    "print(\"zcriR:\",zcriR)"
   ]
  },
  {
   "cell_type": "code",
   "execution_count": 12,
   "id": "9f5d42d2-a664-4c5c-ba6a-bc9701e9c7a1",
   "metadata": {},
   "outputs": [
    {
     "name": "stdout",
     "output_type": "stream",
     "text": [
      "Fail to Reject Ho\n"
     ]
    }
   ],
   "source": [
    "if zcriL<zobs<zcriR:\n",
    "   print(\"Fail to Reject Ho\")\n",
    "else:\n",
    "   print(\"Reject Ho\")"
   ]
  },
  {
   "cell_type": "code",
   "execution_count": 14,
   "id": "d7dc4086-77cd-40b3-a621-2e4ee57df7a9",
   "metadata": {},
   "outputs": [
    {
     "name": "stdout",
     "output_type": "stream",
     "text": [
      "p_value: 0.06030918416219718\n"
     ]
    }
   ],
   "source": [
    "#find p value\n",
    "p_value=norm.cdf(-abs(zobs))\n",
    "print(\"p_value:\",p_value)"
   ]
  },
  {
   "cell_type": "code",
   "execution_count": 16,
   "id": "8a59a740-3e38-462b-9c85-346db6e1cef2",
   "metadata": {},
   "outputs": [
    {
     "name": "stdout",
     "output_type": "stream",
     "text": [
      "p_value: 0.12061836832439436\n"
     ]
    }
   ],
   "source": [
    "p_value=2*norm.cdf(-abs(zobs))  #multiply p with 2 only for two tailed test\n",
    "print(\"p_value:\",p_value)"
   ]
  },
  {
   "cell_type": "code",
   "execution_count": null,
   "id": "d00be1e6-a8c2-4cda-b11a-0652fbd8bead",
   "metadata": {},
   "outputs": [],
   "source": []
  }
 ],
 "metadata": {
  "kernelspec": {
   "display_name": "Python 3 (ipykernel)",
   "language": "python",
   "name": "python3"
  },
  "language_info": {
   "codemirror_mode": {
    "name": "ipython",
    "version": 3
   },
   "file_extension": ".py",
   "mimetype": "text/x-python",
   "name": "python",
   "nbconvert_exporter": "python",
   "pygments_lexer": "ipython3",
   "version": "3.12.4"
  }
 },
 "nbformat": 4,
 "nbformat_minor": 5
}
