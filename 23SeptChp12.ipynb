{
 "cells": [
  {
   "cell_type": "code",
   "execution_count": 50,
   "id": "81b9f0f8-b330-4791-967b-56775ef3af7b",
   "metadata": {},
   "outputs": [],
   "source": [
    "#Question 12 Page570  #Chisquare test of association\n",
    "import pandas as pd\n",
    "import numpy as np\n",
    "import scipy.stats as stats\n",
    "from scipy.stats import chi2_contingency"
   ]
  },
  {
   "cell_type": "code",
   "execution_count": 51,
   "id": "e59cb583-4046-489a-800f-17c6cd51dddf",
   "metadata": {},
   "outputs": [
    {
     "data": {
      "text/html": [
       "<div>\n",
       "<style scoped>\n",
       "    .dataframe tbody tr th:only-of-type {\n",
       "        vertical-align: middle;\n",
       "    }\n",
       "\n",
       "    .dataframe tbody tr th {\n",
       "        vertical-align: top;\n",
       "    }\n",
       "\n",
       "    .dataframe thead th {\n",
       "        text-align: right;\n",
       "    }\n",
       "</style>\n",
       "<table border=\"1\" class=\"dataframe\">\n",
       "  <thead>\n",
       "    <tr style=\"text-align: right;\">\n",
       "      <th></th>\n",
       "      <th>Company</th>\n",
       "      <th>Hiring</th>\n",
       "    </tr>\n",
       "  </thead>\n",
       "  <tbody>\n",
       "    <tr>\n",
       "      <th>0</th>\n",
       "      <td>Private</td>\n",
       "      <td>Add</td>\n",
       "    </tr>\n",
       "    <tr>\n",
       "      <th>1</th>\n",
       "      <td>Private</td>\n",
       "      <td>Add</td>\n",
       "    </tr>\n",
       "    <tr>\n",
       "      <th>2</th>\n",
       "      <td>Private</td>\n",
       "      <td>Add</td>\n",
       "    </tr>\n",
       "    <tr>\n",
       "      <th>3</th>\n",
       "      <td>Private</td>\n",
       "      <td>Add</td>\n",
       "    </tr>\n",
       "    <tr>\n",
       "      <th>4</th>\n",
       "      <td>Private</td>\n",
       "      <td>Add</td>\n",
       "    </tr>\n",
       "    <tr>\n",
       "      <th>...</th>\n",
       "      <td>...</td>\n",
       "      <td>...</td>\n",
       "    </tr>\n",
       "    <tr>\n",
       "      <th>175</th>\n",
       "      <td>Public</td>\n",
       "      <td>nochange</td>\n",
       "    </tr>\n",
       "    <tr>\n",
       "      <th>176</th>\n",
       "      <td>Public</td>\n",
       "      <td>nochange</td>\n",
       "    </tr>\n",
       "    <tr>\n",
       "      <th>177</th>\n",
       "      <td>Public</td>\n",
       "      <td>nochange</td>\n",
       "    </tr>\n",
       "    <tr>\n",
       "      <th>178</th>\n",
       "      <td>Public</td>\n",
       "      <td>nochange</td>\n",
       "    </tr>\n",
       "    <tr>\n",
       "      <th>179</th>\n",
       "      <td>Public</td>\n",
       "      <td>nochange</td>\n",
       "    </tr>\n",
       "  </tbody>\n",
       "</table>\n",
       "<p>180 rows × 2 columns</p>\n",
       "</div>"
      ],
      "text/plain": [
       "     Company    Hiring\n",
       "0    Private       Add\n",
       "1    Private       Add\n",
       "2    Private       Add\n",
       "3    Private       Add\n",
       "4    Private       Add\n",
       "..       ...       ...\n",
       "175   Public  nochange\n",
       "176   Public  nochange\n",
       "177   Public  nochange\n",
       "178   Public  nochange\n",
       "179   Public  nochange\n",
       "\n",
       "[180 rows x 2 columns]"
      ]
     },
     "execution_count": 51,
     "metadata": {},
     "output_type": "execute_result"
    }
   ],
   "source": [
    "df=pd.read_excel(\"C:/Users/asus/Desktop/SMDA solved/PythonStatistics - SMDA/Q12.xlsx\")\n",
    "df"
   ]
  },
  {
   "cell_type": "code",
   "execution_count": 52,
   "id": "20443619-54df-41f0-9b4f-ef79cea4c2c4",
   "metadata": {},
   "outputs": [
    {
     "data": {
      "text/html": [
       "<div>\n",
       "<style scoped>\n",
       "    .dataframe tbody tr th:only-of-type {\n",
       "        vertical-align: middle;\n",
       "    }\n",
       "\n",
       "    .dataframe tbody tr th {\n",
       "        vertical-align: top;\n",
       "    }\n",
       "\n",
       "    .dataframe thead th {\n",
       "        text-align: right;\n",
       "    }\n",
       "</style>\n",
       "<table border=\"1\" class=\"dataframe\">\n",
       "  <thead>\n",
       "    <tr style=\"text-align: right;\">\n",
       "      <th>Hiring</th>\n",
       "      <th>Add</th>\n",
       "      <th>Layoff</th>\n",
       "      <th>nochange</th>\n",
       "      <th>All</th>\n",
       "    </tr>\n",
       "    <tr>\n",
       "      <th>Company</th>\n",
       "      <th></th>\n",
       "      <th></th>\n",
       "      <th></th>\n",
       "      <th></th>\n",
       "    </tr>\n",
       "  </thead>\n",
       "  <tbody>\n",
       "    <tr>\n",
       "      <th>Private</th>\n",
       "      <td>37</td>\n",
       "      <td>16</td>\n",
       "      <td>19</td>\n",
       "      <td>72</td>\n",
       "    </tr>\n",
       "    <tr>\n",
       "      <th>Public</th>\n",
       "      <td>32</td>\n",
       "      <td>42</td>\n",
       "      <td>34</td>\n",
       "      <td>108</td>\n",
       "    </tr>\n",
       "    <tr>\n",
       "      <th>All</th>\n",
       "      <td>69</td>\n",
       "      <td>58</td>\n",
       "      <td>53</td>\n",
       "      <td>180</td>\n",
       "    </tr>\n",
       "  </tbody>\n",
       "</table>\n",
       "</div>"
      ],
      "text/plain": [
       "Hiring   Add  Layoff  nochange  All\n",
       "Company                            \n",
       "Private   37      16        19   72\n",
       "Public    32      42        34  108\n",
       "All       69      58        53  180"
      ]
     },
     "execution_count": 52,
     "metadata": {},
     "output_type": "execute_result"
    }
   ],
   "source": [
    "#Ho: The hiring plan and company type are independent\n",
    "#Ha:The hirng plan and company type are dependent\n",
    "pd.crosstab(df.Company, df.Hiring, margins=True)"
   ]
  },
  {
   "cell_type": "code",
   "execution_count": 53,
   "id": "07d86e60-9dbf-42ba-ae61-22dfc2c0e8b9",
   "metadata": {},
   "outputs": [],
   "source": [
    "chi2_stat,p_value,dof,ex=stats.chi2_contingency(pd.crosstab(df.Hiring,df.Company)) #here ex stands for expected frequency"
   ]
  },
  {
   "cell_type": "code",
   "execution_count": 54,
   "id": "10fb7139-4b84-46f3-9bd0-58a8601fb1ec",
   "metadata": {},
   "outputs": [
    {
     "name": "stdout",
     "output_type": "stream",
     "text": [
      "chisq_stat=: 9.440389867959102\n",
      "degrees_of_freedom=: 2\n",
      "p_value=: 0.008913440846580769\n",
      "contingency_table:\n",
      "[[27.6 41.4]\n",
      " [23.2 34.8]\n",
      " [21.2 31.8]]\n"
     ]
    }
   ],
   "source": [
    "print(\"chisq_stat=:\",chi2_stat)\n",
    "print(\"degrees_of_freedom=:\",dof)\n",
    "print(\"p_value=:\",p_value)\n",
    "print(\"contingency_table:\")\n",
    "print(ex)"
   ]
  },
  {
   "cell_type": "code",
   "execution_count": 55,
   "id": "6b6964a1-0dea-4673-ba2d-cdd702ceb618",
   "metadata": {},
   "outputs": [
    {
     "name": "stdout",
     "output_type": "stream",
     "text": [
      "Reject Ho\n",
      "The hirng plan and company type are dependent\n"
     ]
    }
   ],
   "source": [
    "alpha=0.05\n",
    "if p_value>alpha:\n",
    "    print(\"Fail to reject Ho\")\n",
    "    print(\"The hiring plan and company type are independent\")\n",
    "else:\n",
    "    print(\"Reject Ho\")\n",
    "    print(\"The hirng plan and company type are dependent\")"
   ]
  },
  {
   "cell_type": "code",
   "execution_count": 56,
   "id": "803af34d-b0c6-4ab4-b7b4-48078baefbbc",
   "metadata": {},
   "outputs": [],
   "source": [
    "#Question 14 Page571 \n",
    "import pandas as pd\n",
    "import numpy as np\n",
    "import scipy.stats as stats\n",
    "from scipy.stats import chi2_contingency"
   ]
  },
  {
   "cell_type": "code",
   "execution_count": 57,
   "id": "e2e702ca-f4a6-44ce-8a58-c7edd826d4ff",
   "metadata": {},
   "outputs": [
    {
     "data": {
      "text/html": [
       "<div>\n",
       "<style scoped>\n",
       "    .dataframe tbody tr th:only-of-type {\n",
       "        vertical-align: middle;\n",
       "    }\n",
       "\n",
       "    .dataframe tbody tr th {\n",
       "        vertical-align: top;\n",
       "    }\n",
       "\n",
       "    .dataframe thead th {\n",
       "        text-align: right;\n",
       "    }\n",
       "</style>\n",
       "<table border=\"1\" class=\"dataframe\">\n",
       "  <thead>\n",
       "    <tr style=\"text-align: right;\">\n",
       "      <th></th>\n",
       "      <th>Rating</th>\n",
       "      <th>Education</th>\n",
       "    </tr>\n",
       "  </thead>\n",
       "  <tbody>\n",
       "    <tr>\n",
       "      <th>0</th>\n",
       "      <td>Average</td>\n",
       "      <td>College Grad</td>\n",
       "    </tr>\n",
       "    <tr>\n",
       "      <th>1</th>\n",
       "      <td>Outstanding</td>\n",
       "      <td>HS Grad</td>\n",
       "    </tr>\n",
       "    <tr>\n",
       "      <th>2</th>\n",
       "      <td>Average</td>\n",
       "      <td>Some College</td>\n",
       "    </tr>\n",
       "    <tr>\n",
       "      <th>3</th>\n",
       "      <td>Outstanding</td>\n",
       "      <td>College Grad</td>\n",
       "    </tr>\n",
       "    <tr>\n",
       "      <th>4</th>\n",
       "      <td>Exceptional</td>\n",
       "      <td>College Grad</td>\n",
       "    </tr>\n",
       "    <tr>\n",
       "      <th>...</th>\n",
       "      <td>...</td>\n",
       "      <td>...</td>\n",
       "    </tr>\n",
       "    <tr>\n",
       "      <th>495</th>\n",
       "      <td>Average</td>\n",
       "      <td>HS Grad</td>\n",
       "    </tr>\n",
       "    <tr>\n",
       "      <th>496</th>\n",
       "      <td>Outstanding</td>\n",
       "      <td>HS Grad</td>\n",
       "    </tr>\n",
       "    <tr>\n",
       "      <th>497</th>\n",
       "      <td>Exceptional</td>\n",
       "      <td>College Grad</td>\n",
       "    </tr>\n",
       "    <tr>\n",
       "      <th>498</th>\n",
       "      <td>Outstanding</td>\n",
       "      <td>Some College</td>\n",
       "    </tr>\n",
       "    <tr>\n",
       "      <th>499</th>\n",
       "      <td>Exceptional</td>\n",
       "      <td>Some College</td>\n",
       "    </tr>\n",
       "  </tbody>\n",
       "</table>\n",
       "<p>500 rows × 2 columns</p>\n",
       "</div>"
      ],
      "text/plain": [
       "          Rating     Education\n",
       "0        Average  College Grad\n",
       "1    Outstanding       HS Grad\n",
       "2        Average  Some College\n",
       "3    Outstanding  College Grad\n",
       "4    Exceptional  College Grad\n",
       "..           ...           ...\n",
       "495      Average       HS Grad\n",
       "496  Outstanding       HS Grad\n",
       "497  Exceptional  College Grad\n",
       "498  Outstanding  Some College\n",
       "499  Exceptional  Some College\n",
       "\n",
       "[500 rows x 2 columns]"
      ]
     },
     "execution_count": 57,
     "metadata": {},
     "output_type": "execute_result"
    }
   ],
   "source": [
    "df=pd.read_excel(\"C:/Users/asus/Desktop/SMDA solved/PythonStatistics - SMDA/autoquality.xlsx\")\n",
    "df"
   ]
  },
  {
   "cell_type": "code",
   "execution_count": 58,
   "id": "b660868b-7517-4a82-a25b-9c73b20b0e65",
   "metadata": {},
   "outputs": [
    {
     "data": {
      "text/html": [
       "<div>\n",
       "<style scoped>\n",
       "    .dataframe tbody tr th:only-of-type {\n",
       "        vertical-align: middle;\n",
       "    }\n",
       "\n",
       "    .dataframe tbody tr th {\n",
       "        vertical-align: top;\n",
       "    }\n",
       "\n",
       "    .dataframe thead th {\n",
       "        text-align: right;\n",
       "    }\n",
       "</style>\n",
       "<table border=\"1\" class=\"dataframe\">\n",
       "  <thead>\n",
       "    <tr style=\"text-align: right;\">\n",
       "      <th>Education</th>\n",
       "      <th>College Grad</th>\n",
       "      <th>HS Grad</th>\n",
       "      <th>Some College</th>\n",
       "      <th>Some HS</th>\n",
       "      <th>All</th>\n",
       "    </tr>\n",
       "    <tr>\n",
       "      <th>Rating</th>\n",
       "      <th></th>\n",
       "      <th></th>\n",
       "      <th></th>\n",
       "      <th></th>\n",
       "      <th></th>\n",
       "    </tr>\n",
       "  </thead>\n",
       "  <tbody>\n",
       "    <tr>\n",
       "      <th>Average</th>\n",
       "      <td>60</td>\n",
       "      <td>30</td>\n",
       "      <td>20</td>\n",
       "      <td>35</td>\n",
       "      <td>145</td>\n",
       "    </tr>\n",
       "    <tr>\n",
       "      <th>Exceptional</th>\n",
       "      <td>50</td>\n",
       "      <td>25</td>\n",
       "      <td>30</td>\n",
       "      <td>20</td>\n",
       "      <td>125</td>\n",
       "    </tr>\n",
       "    <tr>\n",
       "      <th>Outstanding</th>\n",
       "      <td>90</td>\n",
       "      <td>45</td>\n",
       "      <td>50</td>\n",
       "      <td>45</td>\n",
       "      <td>230</td>\n",
       "    </tr>\n",
       "    <tr>\n",
       "      <th>All</th>\n",
       "      <td>200</td>\n",
       "      <td>100</td>\n",
       "      <td>100</td>\n",
       "      <td>100</td>\n",
       "      <td>500</td>\n",
       "    </tr>\n",
       "  </tbody>\n",
       "</table>\n",
       "</div>"
      ],
      "text/plain": [
       "Education    College Grad  HS Grad  Some College  Some HS  All\n",
       "Rating                                                        \n",
       "Average                60       30            20       35  145\n",
       "Exceptional            50       25            30       20  125\n",
       "Outstanding            90       45            50       45  230\n",
       "All                   200      100           100      100  500"
      ]
     },
     "execution_count": 58,
     "metadata": {},
     "output_type": "execute_result"
    }
   ],
   "source": [
    "#Ho: The Ratings and Education are independent\n",
    "#Ha: The Ratings and Education are dependent\n",
    "pd.crosstab(df.Rating, df.Education, margins=True)"
   ]
  },
  {
   "cell_type": "code",
   "execution_count": 59,
   "id": "f0605d83-995d-4535-a6e7-080016bc6979",
   "metadata": {},
   "outputs": [],
   "source": [
    "chi2_stat,p_value,dof,ex=stats.chi2_contingency(pd.crosstab(df.Rating,df.Education))"
   ]
  },
  {
   "cell_type": "code",
   "execution_count": 60,
   "id": "0f945183-20b6-45a4-aaf0-9427de8cdb98",
   "metadata": {},
   "outputs": [
    {
     "name": "stdout",
     "output_type": "stream",
     "text": [
      "chisq_stat=: 6.57271364317841\n",
      "degrees_of_freedom=: 6\n",
      "p_value=: 0.3621737706414952\n",
      "contingency_table:\n",
      "[[58. 29. 29. 29.]\n",
      " [50. 25. 25. 25.]\n",
      " [92. 46. 46. 46.]]\n"
     ]
    }
   ],
   "source": [
    "print(\"chisq_stat=:\",chi2_stat)\n",
    "print(\"degrees_of_freedom=:\",dof)\n",
    "print(\"p_value=:\",p_value)\n",
    "print(\"contingency_table:\")\n",
    "print(ex)"
   ]
  },
  {
   "cell_type": "code",
   "execution_count": 61,
   "id": "833a80d4-f3e7-483a-97fe-5ba1d7f453b2",
   "metadata": {},
   "outputs": [
    {
     "name": "stdout",
     "output_type": "stream",
     "text": [
      "Fail to reject Ho\n",
      "The Ratings and Education are independent\n"
     ]
    }
   ],
   "source": [
    "alpha=0.05\n",
    "if p_value>alpha:\n",
    "    print(\"Fail to reject Ho\")\n",
    "    print(\"The Ratings and Education are independent\")\n",
    "else:\n",
    "    print(\"Reject Ho\")\n",
    "    print(\"The Ratings and Education are dependent\")"
   ]
  },
  {
   "cell_type": "code",
   "execution_count": null,
   "id": "0f689ecf-4dde-4179-95a0-5748a2b200ad",
   "metadata": {},
   "outputs": [],
   "source": []
  }
 ],
 "metadata": {
  "kernelspec": {
   "display_name": "Python 3 (ipykernel)",
   "language": "python",
   "name": "python3"
  },
  "language_info": {
   "codemirror_mode": {
    "name": "ipython",
    "version": 3
   },
   "file_extension": ".py",
   "mimetype": "text/x-python",
   "name": "python",
   "nbconvert_exporter": "python",
   "pygments_lexer": "ipython3",
   "version": "3.12.4"
  }
 },
 "nbformat": 4,
 "nbformat_minor": 5
}
