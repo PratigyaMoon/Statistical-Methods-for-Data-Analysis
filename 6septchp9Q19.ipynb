{
 "cells": [
  {
   "cell_type": "code",
   "execution_count": 1,
   "id": "ee8ee681-73b6-41f8-97e0-1d315b5d5cb0",
   "metadata": {},
   "outputs": [],
   "source": [
    "import pandas as pd\n",
    "import numpy as np\n",
    "import scipy.stats as stat\n",
    "from scipy.stats import norm"
   ]
  },
  {
   "cell_type": "code",
   "execution_count": 3,
   "id": "e7dc49e6-5345-46be-8e40-799cf9b0a6cd",
   "metadata": {},
   "outputs": [
    {
     "name": "stdout",
     "output_type": "stream",
     "text": [
      "Ho:mu=13 v/s Ha:mu<>13\n"
     ]
    }
   ],
   "source": [
    "#define hypothesis Q19 pg438 left tailed test\n",
    "print (\"Ho:mu=13 v/s Ha:mu<>13\")"
   ]
  },
  {
   "cell_type": "code",
   "execution_count": 5,
   "id": "265b7b28-5ae4-482e-9b94-ae6b30e757ff",
   "metadata": {},
   "outputs": [],
   "source": [
    "#Data\n",
    "xbar =11\n",
    "sigma=8\n",
    "n=50\n",
    "mu=13\n",
    "significance_level=0.05"
   ]
  },
  {
   "cell_type": "code",
   "execution_count": 15,
   "id": "e5dfed09-7837-4100-b54e-e3229da67a46",
   "metadata": {},
   "outputs": [
    {
     "name": "stdout",
     "output_type": "stream",
     "text": [
      "1.131370849898476\n",
      "zobs: -1.7677669529663689\n"
     ]
    }
   ],
   "source": [
    "#calculate standard error and zobs\n",
    "std_error=sigma/np.sqrt(n)\n",
    "print(std_error)\n",
    "zobs=(xbar-mu)/std_error\n",
    "print(\"zobs:\",zobs)"
   ]
  },
  {
   "cell_type": "code",
   "execution_count": 9,
   "id": "625311d1-538f-4a80-9422-2355ce09b976",
   "metadata": {},
   "outputs": [
    {
     "name": "stdout",
     "output_type": "stream",
     "text": [
      "zcrilL: -1.6448536269514729\n"
     ]
    }
   ],
   "source": [
    "#calculate critical value (only left because it is left tailed ) \n",
    "zcriL=norm.ppf(significance_level)\n",
    "print(\"zcrilL:\",zcriL)"
   ]
  },
  {
   "cell_type": "code",
   "execution_count": 17,
   "id": "11a70fa6-ed0e-427f-bf02-7ec3490fea70",
   "metadata": {},
   "outputs": [
    {
     "name": "stdout",
     "output_type": "stream",
     "text": [
      "reject Ho\n"
     ]
    }
   ],
   "source": [
    "if zcriL<zobs:\n",
    "    print(\"Fail to reject Ho\")\n",
    "else: \n",
    "    print(\"reject Ho\")"
   ]
  },
  {
   "cell_type": "code",
   "execution_count": 21,
   "id": "161730ea-f7be-41f7-a0b6-48b6057e7210",
   "metadata": {},
   "outputs": [
    {
     "name": "stdout",
     "output_type": "stream",
     "text": [
      "p_value: 0.03854993587177085\n"
     ]
    }
   ],
   "source": [
    "#calculate p value\n",
    "p_value=norm.cdf(-abs(zobs)) #multiply p with 2 only for two tailed test\n",
    "print(\"p_value:\", p_value)\n"
   ]
  },
  {
   "cell_type": "code",
   "execution_count": null,
   "id": "24e09bd8-8842-497c-ab13-c0d0cb1607bc",
   "metadata": {},
   "outputs": [],
   "source": []
  }
 ],
 "metadata": {
  "kernelspec": {
   "display_name": "Python 3 (ipykernel)",
   "language": "python",
   "name": "python3"
  },
  "language_info": {
   "codemirror_mode": {
    "name": "ipython",
    "version": 3
   },
   "file_extension": ".py",
   "mimetype": "text/x-python",
   "name": "python",
   "nbconvert_exporter": "python",
   "pygments_lexer": "ipython3",
   "version": "3.12.4"
  }
 },
 "nbformat": 4,
 "nbformat_minor": 5
}
