{
 "cells": [
  {
   "cell_type": "code",
   "execution_count": 1,
   "id": "44e3fddf-1fb5-4470-810e-a867c0d27802",
   "metadata": {},
   "outputs": [],
   "source": [
    "#Question 33 Page 507 hypothesis for difference between two sample proportion\n",
    "import pandas as pd\n",
    "import numpy as np\n",
    "import scipy.stats as stats\n",
    "from scipy.stats import t\n",
    "from scipy.stats import norm"
   ]
  },
  {
   "cell_type": "code",
   "execution_count": 5,
   "id": "2f9f30cf-e022-4082-82f3-b7f4aeccf1ef",
   "metadata": {},
   "outputs": [
    {
     "name": "stdout",
     "output_type": "stream",
     "text": [
      "Ho:P1-P2<=0 , Ha:P1-P2>0\n"
     ]
    }
   ],
   "source": [
    "#State null and alternate hypothesis\n",
    "print(\"Ho:P1-P2<=0 , Ha:P1-P2>0\")"
   ]
  },
  {
   "cell_type": "code",
   "execution_count": 7,
   "id": "40af82b3-eced-4fea-bfa2-a7920d04dfe7",
   "metadata": {},
   "outputs": [
    {
     "name": "stdout",
     "output_type": "stream",
     "text": [
      "0.75\n",
      "0.72\n"
     ]
    }
   ],
   "source": [
    "n1=884\n",
    "x1=663\n",
    "n2=575\n",
    "x2=414\n",
    "p1cap=x1/n1\n",
    "q1cap=1-p1cap\n",
    "p2cap=x2/n2\n",
    "q2cap=1-p2cap\n",
    "print(p1cap)\n",
    "print(p2cap)"
   ]
  },
  {
   "cell_type": "code",
   "execution_count": 9,
   "id": "39ba11e4-c41a-42bd-b24e-9f74c5a1d91a",
   "metadata": {},
   "outputs": [
    {
     "data": {
      "text/plain": [
       "0.7381768334475668"
      ]
     },
     "execution_count": 9,
     "metadata": {},
     "output_type": "execute_result"
    }
   ],
   "source": [
    "#Calculate pooled proportion\n",
    "pbar=(n1*p1cap+n2*p2cap)/ (n1+n2)\n",
    "qbar=1-pbar\n",
    "pbar"
   ]
  },
  {
   "cell_type": "code",
   "execution_count": 13,
   "id": "c7887682-15d1-4246-80c6-e7a6acdba1c1",
   "metadata": {},
   "outputs": [
    {
     "data": {
      "text/plain": [
       "0.023553303717905018"
      ]
     },
     "execution_count": 13,
     "metadata": {},
     "output_type": "execute_result"
    }
   ],
   "source": [
    "#calculate standard error\n",
    "se=np.sqrt(pbar*qbar*(1/n1 + 1/n2))\n",
    "se"
   ]
  },
  {
   "cell_type": "code",
   "execution_count": 15,
   "id": "ecae39b7-595b-42df-80cc-6b36570553e4",
   "metadata": {},
   "outputs": [
    {
     "name": "stdout",
     "output_type": "stream",
     "text": [
      "zobs=: 1.27\n",
      "zcri=: 1.96\n"
     ]
    }
   ],
   "source": [
    "#calculate z-score\n",
    "zobs=np.round(((p1cap-p2cap)/se),decimals=2)\n",
    "print(\"zobs=:\",zobs)\n",
    "#calculate z critical value\n",
    "alpha =0.05\n",
    "zcri = np.round((norm.ppf(1-alpha/2)), decimals=2)   #two-tailedtest\n",
    "print(\"zcri=:\",zcri)"
   ]
  },
  {
   "cell_type": "code",
   "execution_count": 17,
   "id": "903e9c2c-f420-4f46-9999-41ac74b94c23",
   "metadata": {},
   "outputs": [
    {
     "name": "stdout",
     "output_type": "stream",
     "text": [
      "p_value=: 0.2040846301496383\n"
     ]
    }
   ],
   "source": [
    "#Calculate the p-value\n",
    "p_value = 2*norm.cdf(-abs(zobs))\n",
    "print(\"p_value=:\",p_value)"
   ]
  },
  {
   "cell_type": "code",
   "execution_count": 19,
   "id": "47cc33ef-b93b-4d76-96f3-4504c5581541",
   "metadata": {},
   "outputs": [
    {
     "name": "stdout",
     "output_type": "stream",
     "text": [
      "Fail to reject the null hypothesis (zobs = 1.27, p-value = 0.2041)\n"
     ]
    }
   ],
   "source": [
    "#Make a decision based on zcri and p-value\n",
    "if abs(zobs) > zcri:\n",
    "    print(f\"Reject the null hypothesis (zobs = {zobs:.2f}, p-value = {p_value:.4f})\")\n",
    "else:\n",
    "    print(f\"Fail to reject the null hypothesis (zobs = {zobs:.2f}, p-value = {p_value:.4f})\")"
   ]
  },
  {
   "cell_type": "code",
   "execution_count": 21,
   "id": "b0f04c71-76f4-4a48-abe0-b731f24b31ae",
   "metadata": {},
   "outputs": [
    {
     "name": "stdout",
     "output_type": "stream",
     "text": [
      "Fail to reject the null hypothesis. There is no significant difference between the two population proportions.\n"
     ]
    }
   ],
   "source": [
    "#decision based on p-value\n",
    "#specify significance level\n",
    "alpha=0.05\n",
    "if p_value < alpha:\n",
    "        print(\"Reject the null hypothesis. There is a significant difference between the two population proportions.\")\n",
    "else:\n",
    "        print(\"Fail to reject the null hypothesis. There is no significant difference between the two population proportions.\")"
   ]
  },
  {
   "cell_type": "code",
   "execution_count": null,
   "id": "ba4425fe-18dc-441e-80e9-10172bfd30c4",
   "metadata": {},
   "outputs": [],
   "source": []
  }
 ],
 "metadata": {
  "kernelspec": {
   "display_name": "Python 3 (ipykernel)",
   "language": "python",
   "name": "python3"
  },
  "language_info": {
   "codemirror_mode": {
    "name": "ipython",
    "version": 3
   },
   "file_extension": ".py",
   "mimetype": "text/x-python",
   "name": "python",
   "nbconvert_exporter": "python",
   "pygments_lexer": "ipython3",
   "version": "3.12.4"
  }
 },
 "nbformat": 4,
 "nbformat_minor": 5
}
