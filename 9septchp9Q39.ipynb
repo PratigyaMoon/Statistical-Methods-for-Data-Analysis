{
 "cells": [
  {
   "cell_type": "code",
   "execution_count": 47,
   "id": "48a25cd1-997d-43a3-9915-cb0d382314ab",
   "metadata": {},
   "outputs": [],
   "source": [
    "# Question 39 page 448\n",
    "import pandas as pd\n",
    "import numpy as np\n",
    "import scipy.stats as stats\n",
    "from scipy.stats import t\n",
    "from scipy.stats import norm"
   ]
  },
  {
   "cell_type": "code",
   "execution_count": 48,
   "id": "fedf02a9-e75c-4d34-8f0b-ab7612f8f3e1",
   "metadata": {},
   "outputs": [],
   "source": [
    "homestate=pd.read_csv(\"C:\\\\Users\\\\asus\\\\Desktop\\\\SMDA solved\\\\PythonStatistics - SMDA\\\\homestate.csv\")"
   ]
  },
  {
   "cell_type": "code",
   "execution_count": 49,
   "id": "6b581c87-1dcf-40a8-984b-c48469365e90",
   "metadata": {},
   "outputs": [
    {
     "data": {
      "text/html": [
       "<div>\n",
       "<style scoped>\n",
       "    .dataframe tbody tr th:only-of-type {\n",
       "        vertical-align: middle;\n",
       "    }\n",
       "\n",
       "    .dataframe tbody tr th {\n",
       "        vertical-align: top;\n",
       "    }\n",
       "\n",
       "    .dataframe thead th {\n",
       "        text-align: right;\n",
       "    }\n",
       "</style>\n",
       "<table border=\"1\" class=\"dataframe\">\n",
       "  <thead>\n",
       "    <tr style=\"text-align: right;\">\n",
       "      <th></th>\n",
       "      <th>Arkansas Residents Born Here</th>\n",
       "      <th>Virginia Residents Born Here</th>\n",
       "    </tr>\n",
       "  </thead>\n",
       "  <tbody>\n",
       "    <tr>\n",
       "      <th>0</th>\n",
       "      <td>No</td>\n",
       "      <td>Yes</td>\n",
       "    </tr>\n",
       "    <tr>\n",
       "      <th>1</th>\n",
       "      <td>No</td>\n",
       "      <td>No</td>\n",
       "    </tr>\n",
       "    <tr>\n",
       "      <th>2</th>\n",
       "      <td>Yes</td>\n",
       "      <td>No</td>\n",
       "    </tr>\n",
       "    <tr>\n",
       "      <th>3</th>\n",
       "      <td>Yes</td>\n",
       "      <td>Yes</td>\n",
       "    </tr>\n",
       "    <tr>\n",
       "      <th>4</th>\n",
       "      <td>Yes</td>\n",
       "      <td>Yes</td>\n",
       "    </tr>\n",
       "    <tr>\n",
       "      <th>...</th>\n",
       "      <td>...</td>\n",
       "      <td>...</td>\n",
       "    </tr>\n",
       "    <tr>\n",
       "      <th>175</th>\n",
       "      <td>NaN</td>\n",
       "      <td>No</td>\n",
       "    </tr>\n",
       "    <tr>\n",
       "      <th>176</th>\n",
       "      <td>NaN</td>\n",
       "      <td>No</td>\n",
       "    </tr>\n",
       "    <tr>\n",
       "      <th>177</th>\n",
       "      <td>NaN</td>\n",
       "      <td>Yes</td>\n",
       "    </tr>\n",
       "    <tr>\n",
       "      <th>178</th>\n",
       "      <td>NaN</td>\n",
       "      <td>Yes</td>\n",
       "    </tr>\n",
       "    <tr>\n",
       "      <th>179</th>\n",
       "      <td>NaN</td>\n",
       "      <td>No</td>\n",
       "    </tr>\n",
       "  </tbody>\n",
       "</table>\n",
       "<p>180 rows × 2 columns</p>\n",
       "</div>"
      ],
      "text/plain": [
       "    Arkansas Residents Born Here Virginia Residents Born Here\n",
       "0                             No                          Yes\n",
       "1                             No                           No\n",
       "2                            Yes                           No\n",
       "3                            Yes                          Yes\n",
       "4                            Yes                          Yes\n",
       "..                           ...                          ...\n",
       "175                          NaN                           No\n",
       "176                          NaN                           No\n",
       "177                          NaN                          Yes\n",
       "178                          NaN                          Yes\n",
       "179                          NaN                           No\n",
       "\n",
       "[180 rows x 2 columns]"
      ]
     },
     "execution_count": 49,
     "metadata": {},
     "output_type": "execute_result"
    }
   ],
   "source": [
    "homestate"
   ]
  },
  {
   "cell_type": "code",
   "execution_count": 50,
   "id": "8c51bc47-12df-4829-8162-af8b288468dd",
   "metadata": {},
   "outputs": [
    {
     "name": "stdout",
     "output_type": "stream",
     "text": [
      "Ho: mu=0.577 v/s Ha: mu<>0.577\n"
     ]
    }
   ],
   "source": [
    "print(\"Ho: mu=0.577 v/s Ha: mu<>0.577\")"
   ]
  },
  {
   "cell_type": "code",
   "execution_count": 51,
   "id": "bbe821a5-7fcf-4d17-bac7-f8e1e14ea7a3",
   "metadata": {},
   "outputs": [
    {
     "data": {
      "text/plain": [
       "(Arkansas Residents Born Here\n",
       " Yes    74\n",
       " No     46\n",
       " Name: count, dtype: int64,\n",
       " Virginia Residents Born Here\n",
       " No     91\n",
       " Yes    89\n",
       " Name: count, dtype: int64)"
      ]
     },
     "execution_count": 51,
     "metadata": {},
     "output_type": "execute_result"
    }
   ],
   "source": [
    "obsA = homestate['Arkansas Residents Born Here'].value_counts()\n",
    "obsV = homestate['Virginia Residents Born Here'].value_counts()\n",
    "obsA, obsV"
   ]
  },
  {
   "cell_type": "code",
   "execution_count": 52,
   "id": "95e6c162-e232-4784-83bf-7e299d76845b",
   "metadata": {},
   "outputs": [
    {
     "data": {
      "text/plain": [
       "(74, 89)"
      ]
     },
     "execution_count": 52,
     "metadata": {},
     "output_type": "execute_result"
    }
   ],
   "source": [
    "x = obsA.iloc[0]\n",
    "y = obsV.iloc[1]\n",
    "x,y"
   ]
  },
  {
   "cell_type": "code",
   "execution_count": 53,
   "id": "604adbe0-90a1-476f-85ac-ef9d60a9f065",
   "metadata": {},
   "outputs": [
    {
     "data": {
      "text/plain": [
       "(120, 180)"
      ]
     },
     "execution_count": 53,
     "metadata": {},
     "output_type": "execute_result"
    }
   ],
   "source": [
    "n1 = sum(obsA.values)\n",
    "n2 = sum(obsV.values)\n",
    "n1,n2"
   ]
  },
  {
   "cell_type": "code",
   "execution_count": 54,
   "id": "0e764c70-2fe2-4574-b544-a9301a0baf18",
   "metadata": {},
   "outputs": [
    {
     "data": {
      "text/plain": [
       "(0.62, 0.49)"
      ]
     },
     "execution_count": 54,
     "metadata": {},
     "output_type": "execute_result"
    }
   ],
   "source": [
    "p1cap = np.round((x/n1), decimals = 2)\n",
    "q1cap = 1-p1cap\n",
    "p2cap = np.round((y/n2), decimals = 2)\n",
    "q2cap = 1-p2cap\n",
    "p1cap, p2cap"
   ]
  },
  {
   "cell_type": "code",
   "execution_count": 55,
   "id": "e88a3b00-7970-4696-8d23-1843f2e8891d",
   "metadata": {},
   "outputs": [
    {
     "data": {
      "text/plain": [
       "(0.045099057639822145, 0.03682322636597722)"
      ]
     },
     "execution_count": 55,
     "metadata": {},
     "output_type": "execute_result"
    }
   ],
   "source": [
    "P = 0.577\n",
    "Q = 1-P\n",
    "std_errorA = np.sqrt((P*Q)/n1)\n",
    "std_errorV = np.sqrt((P*Q)/n2)\n",
    "std_errorA, std_errorV"
   ]
  },
  {
   "cell_type": "code",
   "execution_count": 56,
   "id": "dbf0d855-d082-48db-9a25-bcac0002a382",
   "metadata": {},
   "outputs": [
    {
     "data": {
      "text/plain": [
       "(0.95, -2.36)"
      ]
     },
     "execution_count": 56,
     "metadata": {},
     "output_type": "execute_result"
    }
   ],
   "source": [
    "zobsA = np.round(((p1cap-P)/std_errorA), decimals = 2)\n",
    "zobsV = np.round(((p2cap-P)/std_errorV), decimals = 2)\n",
    "zobsA, zobsV"
   ]
  },
  {
   "cell_type": "code",
   "execution_count": 57,
   "id": "f4e74fc3-d475-4fc6-8ba8-7c8f7a1e762e",
   "metadata": {},
   "outputs": [
    {
     "data": {
      "text/plain": [
       "(-1.96, 1.96)"
      ]
     },
     "execution_count": 57,
     "metadata": {},
     "output_type": "execute_result"
    }
   ],
   "source": [
    "significance_level = 0.05\n",
    "zcriL = np.round(norm.ppf(significance_level/2), decimals = 4)\n",
    "zcriU = np.round(norm.ppf(1-significance_level/2), decimals = 4)\n",
    "zcriL, zcriU"
   ]
  },
  {
   "cell_type": "code",
   "execution_count": 70,
   "id": "3f9787cc-628c-48c4-bc82-cfda9c8782a1",
   "metadata": {},
   "outputs": [
    {
     "name": "stdout",
     "output_type": "stream",
     "text": [
      "Fail to Reject Ho\n"
     ]
    }
   ],
   "source": [
    "if zcriL<zobsA<zcriU:\n",
    "    print(\"Fail to Reject Ho\")\n",
    "else:\n",
    "    print(\"Reject Ho\")"
   ]
  },
  {
   "cell_type": "code",
   "execution_count": 72,
   "id": "42fb6ed2-3d85-4faf-ab6a-65fbcccdec12",
   "metadata": {},
   "outputs": [
    {
     "name": "stdout",
     "output_type": "stream",
     "text": [
      "p_valueA: 0.34211225261696365\n"
     ]
    }
   ],
   "source": [
    "p_valueA = 2*norm.cdf(-abs(zobsA))\n",
    "print(\"p_valueA:\", p_valueA)"
   ]
  },
  {
   "cell_type": "code",
   "execution_count": 74,
   "id": "188688a5-6c8d-419b-bed4-8b88fc17408f",
   "metadata": {},
   "outputs": [
    {
     "name": "stdout",
     "output_type": "stream",
     "text": [
      "Fail to Reject Ho\n"
     ]
    }
   ],
   "source": [
    "if p_valueA<significance_level:\n",
    "    print(\"Reject Ho\")\n",
    "else:\n",
    "    print(\"Fail to Reject Ho\")"
   ]
  },
  {
   "cell_type": "code",
   "execution_count": null,
   "id": "3d7a1d8c-b996-4c23-a9de-676905f80801",
   "metadata": {},
   "outputs": [],
   "source": []
  }
 ],
 "metadata": {
  "kernelspec": {
   "display_name": "Python 3 (ipykernel)",
   "language": "python",
   "name": "python3"
  },
  "language_info": {
   "codemirror_mode": {
    "name": "ipython",
    "version": 3
   },
   "file_extension": ".py",
   "mimetype": "text/x-python",
   "name": "python",
   "nbconvert_exporter": "python",
   "pygments_lexer": "ipython3",
   "version": "3.12.4"
  }
 },
 "nbformat": 4,
 "nbformat_minor": 5
}
